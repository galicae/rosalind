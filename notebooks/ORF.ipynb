{
 "cells": [
  {
   "cell_type": "markdown",
   "metadata": {},
   "source": [
    "# Problem\n",
    "\n",
    "Either strand of a DNA double helix can serve as the coding strand for RNA transcription. Hence, a\n",
    "given DNA string implies six total reading frames, or ways in which the same region of DNA can be\n",
    "translated into amino acids: three reading frames result from reading the string itself, whereas\n",
    "three more result from reading its reverse complement.\n",
    "\n",
    "An open reading frame (ORF) is one which starts from the start codon and ends by stop codon, without\n",
    "any other stop codons in between. Thus, a candidate protein string is derived by translating an open\n",
    "reading frame into amino acids until a stop codon is reached.\n",
    "\n",
    "<font color=\"green\">Given</font>: A DNA string $s$ of length at most 1 kbp in FASTA format.\n",
    "\n",
    "<font color=\"green\">Return</font>: Every distinct candidate protein string that can be translated\n",
    "from ORFs of s. Strings can be returned in any order."
   ]
  },
  {
   "cell_type": "markdown",
   "metadata": {},
   "source": [
    "### Sample Dataset\n",
    "\n",
    "```\n",
    ">Rosalind_99\n",
    "AGCCATGTAGCTAACTCAGGTTACATGGGGATGACCCCGCGACTTGGATTAGAGTCTCTTTTGGAATAAGCCTGAATGATCCGAGTAGCATCTCAG\n",
    "```\n",
    "\n",
    "### Sample Output\n",
    "\n",
    "```\n",
    "MLLGSFRLIPKETLIQVAGSSPCNLS\n",
    "M\n",
    "MGMTPRLGLESLLE\n",
    "MTPRLGLESLLE\n",
    "```"
   ]
  },
  {
   "cell_type": "code",
   "execution_count": 1,
   "metadata": {},
   "outputs": [],
   "source": [
    "test = [1,4,2,7,9]\n",
    "test.sort()"
   ]
  },
  {
   "cell_type": "code",
   "execution_count": 2,
   "metadata": {},
   "outputs": [],
   "source": [
    "def read_fasta(file):\n",
    "    \"\"\"\n",
    "    Reads a fasta file and returns a dictionary with the name of the sequence as key and the\n",
    "    nucleotide sequence as value.\n",
    "\n",
    "    Parameters\n",
    "    ----------\n",
    "        file : str\n",
    "            Path to the fasta file\n",
    "\n",
    "    Returns\n",
    "    -------\n",
    "        fasta : dict\n",
    "            Dictionary with the name of the sequence as key and the nucleotide sequence as value\n",
    "\n",
    "    Examples\n",
    "    --------\n",
    "    >>> read_fasta(\"data/sequence.fasta\")\n",
    "    {'seq1': 'ACGTGAGCTAGC', 'seq2': 'ACGTGAGCTAGC'}\n",
    "    \"\"\"\n",
    "    fasta = {}\n",
    "    with open(file, \"r\") as f:\n",
    "        data = f.read().split(\">\")\n",
    "        for seq in data:\n",
    "            name = seq.split(\"\\n\")[0]\n",
    "            nuc = \"\".join(seq.split(\"\\n\")[1:])\n",
    "            fasta[name] = nuc\n",
    "    return fasta"
   ]
  },
  {
   "cell_type": "code",
   "execution_count": 3,
   "metadata": {},
   "outputs": [],
   "source": [
    "CODONS = {\n",
    "    \"UUU\": \"F\", \"CUU\": \"L\", \"AUU\": \"I\", \"GUU\": \"V\",\n",
    "    \"UUC\": \"F\", \"CUC\": \"L\", \"AUC\": \"I\", \"GUC\": \"V\",\n",
    "    \"UUA\": \"L\", \"CUA\": \"L\", \"AUA\": \"I\", \"GUA\": \"V\",\n",
    "    \"UUG\": \"L\", \"CUG\": \"L\", \"AUG\": \"M\", \"GUG\": \"V\",\n",
    "    \"UCU\": \"S\", \"CCU\": \"P\", \"ACU\": \"T\", \"GCU\": \"A\",\n",
    "    \"UCC\": \"S\", \"CCC\": \"P\", \"ACC\": \"T\", \"GCC\": \"A\",\n",
    "    \"UCA\": \"S\", \"CCA\": \"P\", \"ACA\": \"T\", \"GCA\": \"A\",\n",
    "    \"UCG\": \"S\", \"CCG\": \"P\", \"ACG\": \"T\", \"GCG\": \"A\",\n",
    "    \"UAU\": \"Y\", \"CAU\": \"H\", \"AAU\": \"N\", \"GAU\": \"D\",\n",
    "    \"UAC\": \"Y\", \"CAC\": \"H\", \"AAC\": \"N\", \"GAC\": \"D\",\n",
    "    \"UAA\": \"Stop\", \"CAA\": \"Q\", \"AAA\": \"K\", \"GAA\": \"E\",\n",
    "    \"UAG\": \"Stop\", \"CAG\": \"Q\", \"AAG\": \"K\", \"GAG\": \"E\",\n",
    "    \"UGU\": \"C\", \"CGU\": \"R\", \"AGU\": \"S\", \"GGU\": \"G\",\n",
    "    \"UGC\": \"C\", \"CGC\": \"R\", \"AGC\": \"S\", \"GGC\": \"G\",\n",
    "    \"UGA\": \"Stop\", \"CGA\": \"R\", \"AGA\": \"R\", \"GGA\": \"G\",\n",
    "    \"UGG\": \"W\", \"CGG\": \"R\", \"AGG\": \"R\", \"GGG\": \"G\"\n",
    "}\n",
    "\n",
    "def reverse_complement(s):\n",
    "    reverse = s[::-1]\n",
    "    reverse = reverse.replace('A', 't')\n",
    "    reverse = reverse.replace('T', 'a')\n",
    "    reverse = reverse.replace('C', 'g')\n",
    "    reverse = reverse.replace('G', 'c')\n",
    "    return reverse.upper()\n",
    "\n",
    "def transcribe(s):\n",
    "    return s.replace('T', 'U')\n",
    "\n",
    "def orf_trim(dna):\n",
    "    # trim the dna sequence to be a multiple of 3\n",
    "    return dna[:len(dna) - (len(dna) % 3)]\n",
    "\n",
    "def translate(s, codon_table=CODONS):\n",
    "    protein = ''\n",
    "    for i in range(0, len(s), 3):\n",
    "        codon = s[i:i+3]\n",
    "        protein += codon_table[codon]\n",
    "    return protein\n",
    "\n",
    "def find_orfs(s, codon_table=CODONS):\n",
    "    s = orf_trim(s)\n",
    "    # find start, stop codons\n",
    "    starts = []\n",
    "    stops = []\n",
    "    for i in range(0, len(s), 3):\n",
    "        codon = s[i:i+3]\n",
    "        if codon == 'AUG':\n",
    "            starts.append(i)\n",
    "        elif codon_table[codon] == \"Stop\":\n",
    "            stops.append(i)\n",
    "    return starts, stops\n",
    "\n",
    "def find_next_stop(start, stops):\n",
    "    stops.sort()\n",
    "    for stop in stops:\n",
    "        if stop > start:\n",
    "            return stop\n",
    "    return None\n",
    "\n",
    "def extract_orfs(s, codon_table=CODONS):\n",
    "    starts, stops = find_orfs(s)\n",
    "    # translate whatever is between a start and the next stop codon\n",
    "    proteins = []\n",
    "    for start in starts:\n",
    "        stop = find_next_stop(start, stops)\n",
    "        if stop is None:\n",
    "            continue\n",
    "        mrna = s[start:stop]\n",
    "        protein = translate(mrna, codon_table)\n",
    "        proteins.append(protein)\n",
    "    return proteins"
   ]
  },
  {
   "cell_type": "code",
   "execution_count": 4,
   "metadata": {},
   "outputs": [],
   "source": [
    "dna = \"AGCCATGTAGCTAACTCAGGTTACATGGGGATGACCCCGCGACTTGGATTAGAGTCTCTTTTGGAATAAGCCTGAATGATCCGAGTAGCATCTCAG\""
   ]
  },
  {
   "cell_type": "code",
   "execution_count": 5,
   "metadata": {},
   "outputs": [],
   "source": [
    "def six_frame_translation(s):\n",
    "    reverse = reverse_complement(s)\n",
    "    mrna_forward = transcribe(s)\n",
    "    mrna_reverse = transcribe(reverse)\n",
    "\n",
    "    # print(mrna_forward)\n",
    "    # print(mrna_reverse)\n",
    "    \n",
    "    forward_frame_1 = extract_orfs(mrna_forward)\n",
    "    forward_frame_2 = extract_orfs(mrna_forward[1:])\n",
    "    forward_frame_3 = extract_orfs(mrna_forward[2:])\n",
    "    reverse_frame_1 = extract_orfs(mrna_reverse)\n",
    "    reverse_frame_2 = extract_orfs(mrna_reverse[1:])\n",
    "    reverse_frame_3 = extract_orfs(mrna_reverse[2:])\n",
    "\n",
    "    return forward_frame_1, forward_frame_2, forward_frame_3, reverse_frame_1, reverse_frame_2, reverse_frame_3\n",
    "\n",
    "def unique_proteins(s):\n",
    "    orfs = six_frame_translation(s)\n",
    "    proteins = set()\n",
    "    for frame in orfs:\n",
    "        for protein in frame:\n",
    "            proteins.add(protein)\n",
    "    \n",
    "    for protein in proteins:\n",
    "        print(protein)\n",
    "    \n",
    "    # return proteins"
   ]
  },
  {
   "cell_type": "code",
   "execution_count": 6,
   "metadata": {},
   "outputs": [
    {
     "name": "stdout",
     "output_type": "stream",
     "text": [
      "MGMTPRLGLESLLE\n",
      "MLLGSFRLIPKETLIQVAGSSPCNLS\n",
      "MTPRLGLESLLE\n",
      "M\n"
     ]
    }
   ],
   "source": [
    "unique_proteins(dna)"
   ]
  },
  {
   "cell_type": "code",
   "execution_count": 7,
   "metadata": {},
   "outputs": [],
   "source": [
    "fasta = read_fasta(\"../files/rosalind_orf.txt\")"
   ]
  },
  {
   "cell_type": "code",
   "execution_count": 8,
   "metadata": {},
   "outputs": [
    {
     "name": "stdout",
     "output_type": "stream",
     "text": [
      "MSLGGARIFRGANSVLKQVLVCQPTRSYVMLTG\n",
      "MTQYPWHTDRY\n",
      "M\n",
      "MTLMNVVTG\n",
      "MFYFQIRFSYFQMVTSRKSVREAKL\n",
      "MSCCPQGSDRMAPMGSSERVSV\n",
      "MFVICLRHRYSTINYPLWCFATRLRSGVFRASLTDAFEPNKTG\n",
      "MAHRQILMLLVCCCLTGLIRFESVC\n",
      "MLQ\n",
      "MAPMGSSERVSV\n",
      "MLTG\n",
      "MSCCNSL\n",
      "MAQADYKHPRAGRLQFTTFR\n",
      "MNVVTG\n",
      "MLC\n",
      "MGSSERVSV\n",
      "MLLALAPAV\n",
      "MVL\n",
      "MLLVCCCLTGLIRFESVC\n",
      "MLPTGI\n",
      "MVTSRKSVREAKL\n",
      "MSHESVLTLAVVFR\n"
     ]
    }
   ],
   "source": [
    "unique_proteins(fasta[\"Rosalind_5776\"])"
   ]
  }
 ],
 "metadata": {
  "kernelspec": {
   "display_name": "Python 3",
   "language": "python",
   "name": "python3"
  },
  "language_info": {
   "codemirror_mode": {
    "name": "ipython",
    "version": 3
   },
   "file_extension": ".py",
   "mimetype": "text/x-python",
   "name": "python",
   "nbconvert_exporter": "python",
   "pygments_lexer": "ipython3",
   "version": "3.11.5"
  }
 },
 "nbformat": 4,
 "nbformat_minor": 2
}
