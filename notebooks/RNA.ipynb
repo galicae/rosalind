{
 "cells": [
  {
   "cell_type": "markdown",
   "id": "e3cdaae7-a221-4457-8a96-738459e17255",
   "metadata": {},
   "source": [
    "# Problem\n",
    "\n",
    "An RNA string is a string formed from the alphabet containing 'A', 'C', 'G', and 'U'.\n",
    "\n",
    "Given a DNA string $t$ corresponding to a coding strand, its transcribed RNA string $u$ is formed by replacing all occurrences of 'T' in $t$ with 'U' in $u$.\n",
    "\n",
    "Given: A DNA string $t$ having length at most 1000 nt.\n",
    "\n",
    "Return: The transcribed RNA string of $t$.\n",
    "\n",
    "### Sample Dataset"
   ]
  },
  {
   "cell_type": "code",
   "execution_count": 1,
   "id": "1b50a33a-6561-4505-98f8-c13cad0d064b",
   "metadata": {},
   "outputs": [],
   "source": [
    "s = 'GATGGAACTTGACTACGTAAATT'"
   ]
  },
  {
   "cell_type": "markdown",
   "id": "d102ed97-beca-4ddd-baa0-bafcf0d1af18",
   "metadata": {},
   "source": [
    "### Sample output"
   ]
  },
  {
   "cell_type": "code",
   "execution_count": 2,
   "id": "2d657ddb-90e0-4d24-bb1a-3c1c0f33cb64",
   "metadata": {},
   "outputs": [],
   "source": [
    "res = 'GAUGGAACUUGACUACGUAAAUU'"
   ]
  },
  {
   "cell_type": "markdown",
   "id": "6363fc9a-fbe1-45a3-807a-b0da7041d32f",
   "metadata": {
    "tags": []
   },
   "source": [
    "### Solution"
   ]
  },
  {
   "cell_type": "code",
   "execution_count": 3,
   "id": "7aa4eed8-1bd7-4439-b55c-c624b86de371",
   "metadata": {},
   "outputs": [],
   "source": [
    "assert(s.replace('T', 'U') == res)"
   ]
  },
  {
   "cell_type": "markdown",
   "id": "d4136dff-3041-4d59-92f8-7c86e05a1ddf",
   "metadata": {},
   "source": [
    "### Real data"
   ]
  },
  {
   "cell_type": "code",
   "execution_count": 4,
   "id": "64926aab-5ab0-47de-833f-cfc038f4b2e9",
   "metadata": {},
   "outputs": [
    {
     "data": {
      "text/plain": [
       "'CGUUUAAUUGUUGACGAACCAGUGAGAUGAGAAGCUCCCACAAGUAAGUCCGCUCAGGUACCCGGAUGAGCAACUGGGAGACACCAAAGGCUACCAUACUGGAGUACUUUCAAAAUGUGACGGGGUUAGUCUGUCGCUAGUCCUUCCGUUUCGGCGCGGUUCAGCCAAAUCCGAAUAUGAAUACUUUUGAUUAGUCUUGAAUAAUCCACCUGGUUGCUUGGAAGAGGUAUCAUGGUCGGUUCUUCCAUCCGCUUGGAGAAUAAAUUUGGACUUGUUGGUGGUAAAAGUGUCGAGCGAAUCUCCUGAGUCAUUGGGGCGCCCAGUCCAUAUCGCCCCAUGGCUGUCAUUGGGAGAUACAGUUAUUAGCCGCUCGCGUCUUCAUCAGGCUACUAGCAGUGCGGCGAAUCUAGAUAGCUCUCGGCUGUCCUAAAGGAUCGACGGGUUUAGUCACGGCGCACCCGUACAGUGAACUUAGGUUAAAACGGCAUCUCCUGCUGUGUUUGCUUGCGCCGUGUGCGAUCGGUUGUCGCUGUUACUAGACUAUACUCCACGGGCGAGAUGUUGAAUAAGCCUAGUACCACGCCUAUUUUACCGAUGGUUUGUUCAGAUGUUAUCCCGAUUAACGUCGAAGCAUUAACCUUAGAACAACUAAAAAAUACAAUGACGCAAAUCGCCCCGAUGAAGUCUCGGUUAAGCAAUGAGGUCGGAUGGUCGAGAACUAUCAGGGGGUGGAUGCUCUAACGUUUAGAACGGGGUUCUACCACUGGAUCCUCUUAUGCUAGACGCCGCGGAUCUACCCCCCCCCCCCCUCUUAUCUGAGGGUACGGUUCCGUCAACACUGGAGGGCCAUCGGACCUCGAGGCCUAUCCCCACACCGACACGUGUACUCUGAUGGUUCGGUCGAUAUGUUAGGGCUCUAAUACGGACGACGUAGAGCGUAUGUCUCCUACGACUAUUACUUUCAAG'"
      ]
     },
     "execution_count": 4,
     "metadata": {},
     "output_type": "execute_result"
    }
   ],
   "source": [
    "data = 'CGTTTAATTGTTGACGAACCAGTGAGATGAGAAGCTCCCACAAGTAAGTCCGCTCAGGTACCCGGATGAGCAACTGGGAGACACCAAAGGCTACCATACTGGAGTACTTTCAAAATGTGACGGGGTTAGTCTGTCGCTAGTCCTTCCGTTTCGGCGCGGTTCAGCCAAATCCGAATATGAATACTTTTGATTAGTCTTGAATAATCCACCTGGTTGCTTGGAAGAGGTATCATGGTCGGTTCTTCCATCCGCTTGGAGAATAAATTTGGACTTGTTGGTGGTAAAAGTGTCGAGCGAATCTCCTGAGTCATTGGGGCGCCCAGTCCATATCGCCCCATGGCTGTCATTGGGAGATACAGTTATTAGCCGCTCGCGTCTTCATCAGGCTACTAGCAGTGCGGCGAATCTAGATAGCTCTCGGCTGTCCTAAAGGATCGACGGGTTTAGTCACGGCGCACCCGTACAGTGAACTTAGGTTAAAACGGCATCTCCTGCTGTGTTTGCTTGCGCCGTGTGCGATCGGTTGTCGCTGTTACTAGACTATACTCCACGGGCGAGATGTTGAATAAGCCTAGTACCACGCCTATTTTACCGATGGTTTGTTCAGATGTTATCCCGATTAACGTCGAAGCATTAACCTTAGAACAACTAAAAAATACAATGACGCAAATCGCCCCGATGAAGTCTCGGTTAAGCAATGAGGTCGGATGGTCGAGAACTATCAGGGGGTGGATGCTCTAACGTTTAGAACGGGGTTCTACCACTGGATCCTCTTATGCTAGACGCCGCGGATCTACCCCCCCCCCCCCTCTTATCTGAGGGTACGGTTCCGTCAACACTGGAGGGCCATCGGACCTCGAGGCCTATCCCCACACCGACACGTGTACTCTGATGGTTCGGTCGATATGTTAGGGCTCTAATACGGACGACGTAGAGCGTATGTCTCCTACGACTATTACTTTCAAG'\n",
    "data.replace('T', 'U')"
   ]
  },
  {
   "cell_type": "code",
   "execution_count": null,
   "id": "0870d49e-d8d8-4850-a3a2-1f4456ee8c15",
   "metadata": {},
   "outputs": [],
   "source": []
  }
 ],
 "metadata": {
  "kernelspec": {
   "display_name": "Python 3 (ipykernel)",
   "language": "python",
   "name": "python3"
  },
  "language_info": {
   "codemirror_mode": {
    "name": "ipython",
    "version": 3
   },
   "file_extension": ".py",
   "mimetype": "text/x-python",
   "name": "python",
   "nbconvert_exporter": "python",
   "pygments_lexer": "ipython3",
   "version": "3.9.13"
  }
 },
 "nbformat": 4,
 "nbformat_minor": 5
}
