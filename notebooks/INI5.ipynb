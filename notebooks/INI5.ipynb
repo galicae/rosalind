{
 "cells": [
  {
   "cell_type": "markdown",
   "id": "41eb0ef2-449e-443b-a064-6b9d0462dcfb",
   "metadata": {},
   "source": [
    "# Problem\n",
    "\n",
    "Given: A file containing at most 1000 lines.\n",
    "\n",
    "Return: A file containing all the even-numbered lines from the original file. Assume 1-based numbering of lines.\n",
    "\n",
    "### Sample Dataset"
   ]
  },
  {
   "cell_type": "code",
   "execution_count": 1,
   "id": "5e4557d6-8b8f-4b2f-98af-f4ba8aa5ecee",
   "metadata": {},
   "outputs": [],
   "source": [
    "training = []\n",
    "with open('./files/INI5_train.txt', 'r') as infile:\n",
    "    for line in infile:\n",
    "        training.append(line)"
   ]
  },
  {
   "cell_type": "markdown",
   "id": "4a5f9073-73dc-4f8e-bbc0-f8a82a08bf2b",
   "metadata": {},
   "source": [
    "### Sample output"
   ]
  },
  {
   "cell_type": "code",
   "execution_count": 2,
   "id": "114943c9-e91c-41dc-aa0b-7ae04a0a9590",
   "metadata": {},
   "outputs": [],
   "source": [
    "result = []\n",
    "with open('./files/INI5_result.txt', 'r') as infile:\n",
    "    for line in infile:\n",
    "        result.append(line)"
   ]
  },
  {
   "cell_type": "markdown",
   "id": "6b141995-e138-4263-bda0-d8199e2631f4",
   "metadata": {},
   "source": [
    "### Solution"
   ]
  },
  {
   "cell_type": "code",
   "execution_count": 3,
   "id": "5b4599a8-0678-492b-b3c0-295e1d6dd295",
   "metadata": {},
   "outputs": [],
   "source": [
    "import numpy as np"
   ]
  },
  {
   "cell_type": "code",
   "execution_count": 4,
   "id": "db1aed0b-c7e4-4f6e-a1fb-749ff207bf65",
   "metadata": {},
   "outputs": [],
   "source": [
    "def keep_even(x):\n",
    "    x = np.array(x)\n",
    "    indices = np.arange(len(x)) + 1\n",
    "    evens = indices % 2 == 0\n",
    "    return x[evens]"
   ]
  },
  {
   "cell_type": "code",
   "execution_count": 5,
   "id": "85aafe47-745b-4bf1-84f4-6e793e5e08d6",
   "metadata": {},
   "outputs": [
    {
     "data": {
      "text/plain": [
       "array(['Yes, brave Sir Robin turned about\\n',\n",
       "       'And gallantly he chickened out\\n',\n",
       "       'Bravely talking to his feet\\n', 'He beat a very brave retreat'],\n",
       "      dtype='<U52')"
      ]
     },
     "execution_count": 5,
     "metadata": {},
     "output_type": "execute_result"
    }
   ],
   "source": [
    "keep_even(training)"
   ]
  },
  {
   "cell_type": "code",
   "execution_count": 6,
   "id": "fe5fd9df-fffb-4785-9d55-fa7227b6b8c5",
   "metadata": {},
   "outputs": [],
   "source": [
    "assert(all(keep_even(training) == result))"
   ]
  },
  {
   "cell_type": "markdown",
   "id": "a5311d80-0e0b-4a98-9952-dc457e515961",
   "metadata": {
    "tags": []
   },
   "source": [
    "### Real data"
   ]
  },
  {
   "cell_type": "code",
   "execution_count": 7,
   "id": "4ac785e6-26df-45bf-b407-6ff0f5727df4",
   "metadata": {},
   "outputs": [
    {
     "name": "stdout",
     "output_type": "stream",
     "text": [
      "Some things in life are bad, they can really make you mad\n",
      "Other things just make you swear and curse\n",
      "When you're chewing on life's gristle, don't grumble give a whistle\n",
      "This will help things turn out for the best\n",
      "Always look on the bright side of life\n",
      "Always look on the right side of life\n",
      "If life seems jolly rotten, there's something you've forgotten\n",
      "And that's to laugh and smile and dance and sing\n",
      "When you're feeling in the dumps, don't be silly, chumps\n",
      "Just purse your lips and whistle, that's the thing\n",
      "So, always look on the bright side of death\n",
      "Just before you draw your terminal breath\n",
      "Life's a counterfeit and when you look at it\n",
      "Life's a laugh and death's the joke, it's true\n",
      "You see, it's all a show, keep them laughing as you go\n",
      "Just remember the last laugh is on you\n",
      "Always look on the bright side of life\n",
      "And always look on the right side of life\n",
      "Always look on the bright side of life\n",
      "And always look on the right side of life\n",
      "\n"
     ]
    }
   ],
   "source": [
    "real = []\n",
    "with open('./files/INI5_real.txt', 'r') as infile:\n",
    "    for line in infile:\n",
    "        real.append(line)\n",
    "\n",
    "complete_text = ''.join(keep_even(real))\n",
    "print(complete_text)"
   ]
  }
 ],
 "metadata": {
  "kernelspec": {
   "display_name": "Python 3 (ipykernel)",
   "language": "python",
   "name": "python3"
  },
  "language_info": {
   "codemirror_mode": {
    "name": "ipython",
    "version": 3
   },
   "file_extension": ".py",
   "mimetype": "text/x-python",
   "name": "python",
   "nbconvert_exporter": "python",
   "pygments_lexer": "ipython3",
   "version": "3.9.13"
  }
 },
 "nbformat": 4,
 "nbformat_minor": 5
}
