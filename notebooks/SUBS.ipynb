{
 "cells": [
  {
   "cell_type": "markdown",
   "metadata": {},
   "source": [
    "Problem\n",
    "\n",
    "Given two strings $s$ and $t$, $t$ is a substring of $s$ if $t$ is contained as a contiguous\n",
    "collection of symbols in $s$ (as a result, $t$ must be no longer than s).\n",
    "\n",
    "The position of a symbol in a string is the total number of symbols found to its left, including\n",
    "itself (e.g., the positions of all occurrences of 'U' in \"AUGCUUCAGAAAGGUCUUACG\" are 2, 5, 6, 15,\n",
    "17, and 18). The symbol at position $i$ of $s$ is denoted by s[i].\n",
    "\n",
    "A substring of $s$ can be represented as s[j:k], where j and k represent the starting and ending\n",
    "positions of the substring in $s$; for example, if $s$ = \"AUGCUUCAGAAAGGUCUUACG\", then $s[2:5]$ =\n",
    "\"UGCU\".\n",
    "\n",
    "The location of a substring $s[j:k]$ is its beginning position $j$; note that $t$ will have multiple\n",
    "locations in $s$ if it occurs more than once as a substring of $s$ (see the Sample below).\n",
    "\n",
    "<font color=\"green\">Given</font>: Two DNA strings $s$ and $t$ (each of length at most 1 kbp).\n",
    "\n",
    "<font color=\"green\">Return</font>: All locations of $t$ as a substring of $s$.\n",
    "\n",
    "**Sample Dataset**\n",
    "\n",
    "```\n",
    "GATATATGCATATACTT\n",
    "ATAT\n",
    "```\n",
    "\n",
    "**Sample Output**\n",
    "\n",
    "```\n",
    "2 4 10\n",
    "```\n"
   ]
  },
  {
   "cell_type": "markdown",
   "metadata": {},
   "source": [
    "### Practice"
   ]
  },
  {
   "cell_type": "code",
   "execution_count": 7,
   "metadata": {},
   "outputs": [],
   "source": [
    "dna = \"GATATATGCATATACTT\"\n",
    "motif = \"ATAT\""
   ]
  },
  {
   "cell_type": "code",
   "execution_count": 11,
   "metadata": {},
   "outputs": [],
   "source": [
    "def find_motif(dna, motif):\n",
    "    motif_length = len(motif)\n",
    "\n",
    "    motif_locations = []\n",
    "    for i in range(len(dna) - motif_length + 1):\n",
    "        if dna[i:i+motif_length] == motif:\n",
    "            motif_locations.append(i+1)\n",
    "\n",
    "    return motif_locations"
   ]
  },
  {
   "cell_type": "code",
   "execution_count": 12,
   "metadata": {},
   "outputs": [
    {
     "name": "stdout",
     "output_type": "stream",
     "text": [
      "2 4 10\n"
     ]
    }
   ],
   "source": [
    "locs = find_motif(dna, motif)\n",
    "print(*locs)"
   ]
  },
  {
   "cell_type": "markdown",
   "metadata": {},
   "source": [
    "### Real data"
   ]
  },
  {
   "cell_type": "code",
   "execution_count": 13,
   "metadata": {},
   "outputs": [],
   "source": [
    "with open(\"../files/SUBS_real.txt\", \"r\") as infile:\n",
    "    dna, motif = infile.read().splitlines()"
   ]
  },
  {
   "cell_type": "code",
   "execution_count": 14,
   "metadata": {},
   "outputs": [
    {
     "name": "stdout",
     "output_type": "stream",
     "text": [
      "220 417 434 473 480 504 511 610 617 648 664 692 699 716 763 776 800 807\n"
     ]
    }
   ],
   "source": [
    "locs = find_motif(dna, motif)\n",
    "print(*locs)"
   ]
  }
 ],
 "metadata": {
  "kernelspec": {
   "display_name": "work",
   "language": "python",
   "name": "python3"
  },
  "language_info": {
   "codemirror_mode": {
    "name": "ipython",
    "version": 3
   },
   "file_extension": ".py",
   "mimetype": "text/x-python",
   "name": "python",
   "nbconvert_exporter": "python",
   "pygments_lexer": "ipython3",
   "version": "3.10.9"
  }
 },
 "nbformat": 4,
 "nbformat_minor": 2
}
