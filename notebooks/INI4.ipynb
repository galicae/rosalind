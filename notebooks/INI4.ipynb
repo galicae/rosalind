{
 "cells": [
  {
   "cell_type": "markdown",
   "id": "084a249c-39c3-43fc-8d32-3babadc59b2e",
   "metadata": {},
   "source": [
    "# Problem\n",
    "\n",
    "Given: Two positive integers $a$ and $b$ $(a<b<10000)$.\n",
    "\n",
    "Return: The sum of all odd integers from $a$ through $b$, inclusively.\n",
    "\n",
    "### Sample Dataset"
   ]
  },
  {
   "cell_type": "code",
   "execution_count": 1,
   "id": "6f497242-e45e-469d-b785-ff3c970c924c",
   "metadata": {},
   "outputs": [],
   "source": [
    "a = 100\n",
    "b = 200"
   ]
  },
  {
   "cell_type": "markdown",
   "id": "97665cf0-9099-4f4d-9b5a-83c86c015569",
   "metadata": {},
   "source": [
    "### Sample output"
   ]
  },
  {
   "cell_type": "code",
   "execution_count": 2,
   "id": "65a8402c-f260-4230-85d5-db53e25289e4",
   "metadata": {},
   "outputs": [],
   "source": [
    "res = 7500"
   ]
  },
  {
   "cell_type": "markdown",
   "id": "a0d6706f-0662-41d6-8905-62b598ba4e6d",
   "metadata": {},
   "source": [
    "### Solution"
   ]
  },
  {
   "cell_type": "code",
   "execution_count": 3,
   "id": "7e266d0b-5f43-4b0d-bedf-79362afb6019",
   "metadata": {},
   "outputs": [],
   "source": [
    "import numpy as np"
   ]
  },
  {
   "cell_type": "code",
   "execution_count": 4,
   "id": "e206eee7-6b52-4489-810d-8515b2cc633a",
   "metadata": {},
   "outputs": [],
   "source": [
    "def sum_odds(a, b):\n",
    "    all_numbers = np.arange(a, b+1)\n",
    "    odds = all_numbers % 2 > 0\n",
    "    return np.sum(all_numbers[odds])"
   ]
  },
  {
   "cell_type": "code",
   "execution_count": 5,
   "id": "00585adb-c56d-4eb0-b765-8c804ab37c5e",
   "metadata": {},
   "outputs": [],
   "source": [
    "assert(sum_odds(a, b) == res)"
   ]
  },
  {
   "cell_type": "markdown",
   "id": "0f80ff60-9a6d-49e0-b85b-8a29834c1de6",
   "metadata": {},
   "source": [
    "### Real data"
   ]
  },
  {
   "cell_type": "code",
   "execution_count": 6,
   "id": "298c6fd8-c94a-4718-90d6-a755d4eb449b",
   "metadata": {},
   "outputs": [
    {
     "data": {
      "text/plain": [
       "12224212"
      ]
     },
     "execution_count": 6,
     "metadata": {},
     "output_type": "execute_result"
    }
   ],
   "source": [
    "a = 4104\n",
    "b = 8108\n",
    "sum_odds(a, b)"
   ]
  },
  {
   "cell_type": "code",
   "execution_count": null,
   "id": "2ddfa905-5bcb-44e7-bca8-9d76d4a4426b",
   "metadata": {},
   "outputs": [],
   "source": []
  }
 ],
 "metadata": {
  "kernelspec": {
   "display_name": "Python 3 (ipykernel)",
   "language": "python",
   "name": "python3"
  },
  "language_info": {
   "codemirror_mode": {
    "name": "ipython",
    "version": 3
   },
   "file_extension": ".py",
   "mimetype": "text/x-python",
   "name": "python",
   "nbconvert_exporter": "python",
   "pygments_lexer": "ipython3",
   "version": "3.9.13"
  }
 },
 "nbformat": 4,
 "nbformat_minor": 5
}
