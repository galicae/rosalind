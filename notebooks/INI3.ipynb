{
 "cells": [
  {
   "cell_type": "code",
   "execution_count": 1,
   "id": "2c5580a7-d2d8-4f8e-9c15-5eb4bd392b48",
   "metadata": {},
   "outputs": [],
   "source": [
    "string = 'ny0Kam55YMicropalamanAhJXk8Z1GIHCFjHiLQnw2Q2JYPkPFuXkcpuM2IQX4lt4atYzYul4beLgO5fk6r1kka53KncirciawdCsjN4TkPxugZt2AIwyJKUXn52IhkiriRMrMl2Z1GHbIRXB1T8gGnramoxpB0kejpGMZbtARTYjKKZ64t3ccJt6.'\n",
    "a, b, c, d = 9, 19, 91, 96"
   ]
  },
  {
   "cell_type": "code",
   "execution_count": 2,
   "id": "519f4a9b-418e-44a2-b684-88295d04c67f",
   "metadata": {},
   "outputs": [
    {
     "name": "stdout",
     "output_type": "stream",
     "text": [
      "Micropalama circia\n"
     ]
    }
   ],
   "source": [
    "print(f'{string[a:(b+1)]} {string[c:(d+1)]}')"
   ]
  }
 ],
 "metadata": {
  "kernelspec": {
   "display_name": "Python 3 (ipykernel)",
   "language": "python",
   "name": "python3"
  },
  "language_info": {
   "codemirror_mode": {
    "name": "ipython",
    "version": 3
   },
   "file_extension": ".py",
   "mimetype": "text/x-python",
   "name": "python",
   "nbconvert_exporter": "python",
   "pygments_lexer": "ipython3",
   "version": "3.9.13"
  }
 },
 "nbformat": 4,
 "nbformat_minor": 5
}
