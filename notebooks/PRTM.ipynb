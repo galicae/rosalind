{
 "cells": [
  {
   "cell_type": "code",
   "execution_count": 1,
   "id": "2c5580a7-d2d8-4f8e-9c15-5eb4bd392b48",
   "metadata": {},
   "outputs": [],
   "source": [
    "monoisotopic_mass_table = {\n",
    "    \"A\": 71.03711,\n",
    "    \"C\": 103.00919,\n",
    "    \"D\": 115.02694,\n",
    "    \"E\": 129.04259,\n",
    "    \"F\": 147.06841,\n",
    "    \"G\": 57.02146,\n",
    "    \"H\": 137.05891,\n",
    "    \"I\": 113.08406,\n",
    "    \"K\": 128.09496,\n",
    "    \"L\": 113.08406,\n",
    "    \"M\": 131.04049,\n",
    "    \"N\": 114.04293,\n",
    "    \"P\": 97.05276,\n",
    "    \"Q\": 128.05858,\n",
    "    \"R\": 156.10111,\n",
    "    \"S\": 87.03203,\n",
    "    \"T\": 101.04768,\n",
    "    \"V\": 99.06841,\n",
    "    \"W\": 186.07931,\n",
    "    \"Y\": 163.06333 ,\n",
    "}"
   ]
  },
  {
   "cell_type": "code",
   "execution_count": 2,
   "id": "ce3f32b6",
   "metadata": {},
   "outputs": [],
   "source": [
    "def mol_weight(seq, TABLE=monoisotopic_mass_table):\n",
    "    weight = 0\n",
    "    for aa in seq:\n",
    "        weight += TABLE[aa]\n",
    "    return weight"
   ]
  },
  {
   "cell_type": "code",
   "execution_count": 3,
   "id": "aeda2adc",
   "metadata": {},
   "outputs": [
    {
     "data": {
      "text/plain": [
       "821.3919199999999"
      ]
     },
     "execution_count": 3,
     "metadata": {},
     "output_type": "execute_result"
    }
   ],
   "source": [
    "mol_weight(\"SKADYEK\")"
   ]
  },
  {
   "cell_type": "code",
   "execution_count": 4,
   "id": "0ec3f2cb",
   "metadata": {},
   "outputs": [],
   "source": [
    "puzzle_in = \"KQRAVFYIYAFGYIECEMKNASSNIRQYNQVERDCRHNLIICFISDLVNLAGELKYVGTRCFAKQGLSIRTSRVRRISTFHAQQHYQCLQHHAFHLEFFGLEINYELFICKREWMGRGVTFFVHSTQILFHICPIAYPGGHVTPHNMGNETRDNHEMHNIFTWWPPIASWCFHAQLCFNMSWYGVVFFHPLAYIRGLHKNTVERCESTVRDMRQNPECGDEQLNIPAEHHDYQPTIGQLAYWSCEYPQVLFVNDMTDLNMMFFFNDAYANRDYQAVEMGIMPCHSNPTCWAGERDQYKFKNRIMFVFEHQQCFLSPVRSPGPNTLGGVYPSPSIPISLQTYRNFTAITISSTNHTAQVLWYCNSDGYPLIADDLWFDHGFFKMSRRANLFGFNDGSVNYYDSNFEYQRLLLLIMGIGIMIQYRETAPYYVWHMMEETGYQAEIVNDKTDGKCERIDVNIHMLEMGNGWVPAWWFRLPFELMFIMYAQESFKNVFPCFLDYDWLHFRRFRSVAEARQCYSHRSIRDFCRMLQHSLKTYTTEGTVYLPWHRSYTPWHGETECSMDIHLQPTEFTRHFGAHPETYIKELWLGSCLCIKHCGIINSRGKSRKHWSHWIVFNKNKAGIKYHENCRNQYHLPQVFKATESYMNKIRCRNVQGGKCWFYKFELGWIDASQCIAPARTMYEHEQRRNCISKSGKTYIHVPIDHACQKPKCQGIQVQKFTFMTKFPLYFFCHEVQDTPTQIYRVSRYIDNGIFSFKPWLREAYRAHYDSYYKDTICELKEEFRTWFIFNFIFPFHNANHVDYYGLLMWAIVILFRKVNTMNKEENRGKRAMQFFKERVSDQEHNMSKQESWQKVHLVVDWAVAPAGMAMEWQRQADWEQETTYDVSPYEDMNMDV\""
   ]
  },
  {
   "cell_type": "code",
   "execution_count": 5,
   "id": "6202cb87",
   "metadata": {},
   "outputs": [
    {
     "data": {
      "text/plain": [
       "106719.22808000055"
      ]
     },
     "execution_count": 5,
     "metadata": {},
     "output_type": "execute_result"
    }
   ],
   "source": [
    "mol_weight(puzzle_in)"
   ]
  }
 ],
 "metadata": {
  "kernelspec": {
   "display_name": "Python 3 (ipykernel)",
   "language": "python",
   "name": "python3"
  },
  "language_info": {
   "codemirror_mode": {
    "name": "ipython",
    "version": 3
   },
   "file_extension": ".py",
   "mimetype": "text/x-python",
   "name": "python",
   "nbconvert_exporter": "python",
   "pygments_lexer": "ipython3",
   "version": "3.11.5"
  }
 },
 "nbformat": 4,
 "nbformat_minor": 5
}
