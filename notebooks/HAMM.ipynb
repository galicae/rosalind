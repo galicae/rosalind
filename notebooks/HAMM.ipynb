{
 "cells": [
  {
   "attachments": {},
   "cell_type": "markdown",
   "metadata": {},
   "source": [
    "# Problem\n",
    "\n",
    "\n",
    "Figure 2. The Hamming distance between these two strings is 7. Mismatched symbols are colored red.\n",
    "Given two strings $s$ and $t$ of equal length, the Hamming distance between $s$ and $t$, denoted\n",
    "$dH(s,t)$, is the number of corresponding symbols that differ in $s$ and $t$. See Figure 2.\n",
    "\n",
    "Given: Two DNA strings $s$ and $t$ of equal length (not exceeding 1 kbp).\n",
    "\n",
    "Return: The Hamming distance $dH(s,t)$.\n",
    "\n",
    "### Sample Dataset\n",
    "\n",
    "```\n",
    "GAGCCTACTAACGGGAT\n",
    "CATCGTAATGACGGCCT\n",
    "```\n",
    "\n",
    "### Sample Output\n",
    "\n",
    "```\n",
    "7\n",
    "```\n",
    "\n",
    "# Test"
   ]
  },
  {
   "cell_type": "code",
   "execution_count": 1,
   "metadata": {},
   "outputs": [],
   "source": [
    "a = \"GAGCCTACTAACGGGAT\"\n",
    "b = \"CATCGTAATGACGGCCT\"\n",
    "\n",
    "def hamm(a, b):\n",
    "    return sum([1 for i in range(len(a)) if a[i] != b[i]])"
   ]
  },
  {
   "cell_type": "code",
   "execution_count": 2,
   "metadata": {},
   "outputs": [
    {
     "data": {
      "text/plain": [
       "7"
      ]
     },
     "execution_count": 2,
     "metadata": {},
     "output_type": "execute_result"
    }
   ],
   "source": [
    "hamm(a, b)"
   ]
  },
  {
   "attachments": {},
   "cell_type": "markdown",
   "metadata": {},
   "source": [
    "# Real"
   ]
  },
  {
   "cell_type": "code",
   "execution_count": 3,
   "metadata": {},
   "outputs": [],
   "source": [
    "a = \"ACAGGGAAGCAGCCTATCTACCGATTGCTAGCTCTTTGGTCCCGTGCTGGCCGAAACCTCCGTCTCCACTGCTTGGGTTGTCGTGGGTTAGTAGCGCGTGATGAGCTGCTTTATGACAACCGCGCATTACGGTCCGTGTTGAGCGCCTCATGGTGGTTGTATCGAGATGTCCGTAGGAATCAGATTATAGTGACCTCGAATGGGTTGTCAGGACTGCGTAGTGGATAGAGAACCGGTTCGAATTTATGGACAATTCTGAGAACCTGCGGTCGCTGGGAGTTTACCCTAGGACGCACCCCCGGTAATAATTGCTATTATTCGACGAGATTAACTTCCTACGCATTAGCGGGTCCAGAAAGTAGCGTCAGAAGTCTAACACTTCCGGAAGTCTACCTTTCCTGGGCGGACCTAAGTTTACCTCACTCACATTGTATATAACAGAATAAAAACCCCCTTGAGTCTCCATCTAATGCGAGTACATACCGTATGCCAAAGATCCAGTACATAGCGGTTTGACGGGCTGAAGCATACCTAGTATCCCCCTTATTAGGTAAATATATTAGAAAGAACTCGAAAGCATTGGTACAGTTCCATTACTTCCTTCACTAGGATAAATGCTTGGGCATCCTCCAACTATCGGTAACGTGACTAATACACCGCGCACCGGGGGTATGCTGCTCCTCCTCAGTCGATTCATCGAAAACCGTCCTACGTCGTTCCGCTTACGCCTATGACGGGGGGCGCAGATCAACCCTGCGTTCGTCAGTGCCTCATTCGTTATAAGTACCGAAAACCGACCCAGTTAGGGAATTCCACTGGAATCCCCGGGACACCACAATGATCTCTAGTGCTCCAGGCATCTAAACGGATAGGGCTGCGAGCATTGTTTATCGTCCCCCGTACACTTTA\"\n",
    "b = \"AAGCTCGAAGTTTCTTTTGAACAATAGCTGGATCTTTTGTCTCATTCAGGGGGCAACCTCGCTCTCCCCAGCTTTGCATGTGGTGGGTATGGTTGATCAGAGCGGGTGTTTCTTGAACACGCAGATCCACCAACATATCTGAGATCATGACAGATGGTGTTATGAGGCGCCAGTTGAGAACCACTCATTGTAACAGAAAATGCGTCATAATTACATCGTACGGGATGTAGCAACCGTTCCAATTCACAGAGGATTCTAATACCCTAGCGTCCCTCGAAGTTTACCCTACGACGTAACAAGGTTTATAATACGTTACGTCAGAAAAGAAAGAGTGCGCTCGTATCGAGTGGGCCGTACATAATCTAGAGTTTAACAACTCGTTCTGTAGAAAACTTTCTCTAGGCCTATAACATACGCTCGCAGTCAAATGGCATAATGCAGATGATTAGCAGCAGGCAGGCTCGAAAGGAGGACAGCACATCAACTATGGGAGAAAGGCCTGAAATAGCCCGGCAGAGACCGTACGCAAACAAAGCTAACGGGGTGGTTTGCGCTCACACTATCCAGAGGTTAAACCACTGGCGTAAGTTGGTTAACCTCACTGACTAGGATACAAAATGAGACACCCCCAGCTCATGGATTACATTTTGAACGAAACTCGCAAGCAGTAAACGGTTCTCGTCCGCGGGTACCTAGTATAGAAGTGTGATCTATGAGTCCGCTTACGCGAATGATGGCTCGAGAAGGTAACCAATCGGGCAGTCCTATAAGCGGTATATAAGTTTTTTGAAAACTTCGCAACATCGGGACCTTACCTGTCACCGGGGGGGCAGAATATAGTCCTCAAGGAATGGAGCCATTTACACACCTCTGGCAGTAACGCAAGCCACAAGGGGCACCCACAATGTA\""
   ]
  },
  {
   "cell_type": "code",
   "execution_count": 4,
   "metadata": {},
   "outputs": [
    {
     "data": {
      "text/plain": [
       "464"
      ]
     },
     "execution_count": 4,
     "metadata": {},
     "output_type": "execute_result"
    }
   ],
   "source": [
    "hamm(a, b)"
   ]
  }
 ],
 "metadata": {
  "kernelspec": {
   "display_name": "work",
   "language": "python",
   "name": "python3"
  },
  "language_info": {
   "codemirror_mode": {
    "name": "ipython",
    "version": 3
   },
   "file_extension": ".py",
   "mimetype": "text/x-python",
   "name": "python",
   "nbconvert_exporter": "python",
   "pygments_lexer": "ipython3",
   "version": "3.10.9"
  },
  "orig_nbformat": 4
 },
 "nbformat": 4,
 "nbformat_minor": 2
}
