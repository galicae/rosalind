{
 "cells": [
  {
   "cell_type": "markdown",
   "id": "41b8a013-3d06-488d-9f3b-a5cb991ef3da",
   "metadata": {},
   "source": [
    "# Problem\n",
    "\n",
    "In DNA strings, symbols 'A' and 'T' are complements of each other, as are 'C' and 'G'.\n",
    "\n",
    "The reverse complement of a DNA string $s$ is the string sc formed by reversing the symbols of $s$, then taking the complement of each symbol (e.g., the reverse complement of \"GTCA\" is \"TGAC\").\n",
    "\n",
    "Given: A DNA string $s$ of length at most 1000 bp.\n",
    "\n",
    "Return: The reverse complement $s^c$ of $s$.\n",
    "\n",
    "\n",
    "### Sample Dataset"
   ]
  },
  {
   "cell_type": "code",
   "execution_count": 1,
   "id": "ca0344f2-da46-4d4b-be4f-03c2f8b215af",
   "metadata": {},
   "outputs": [],
   "source": [
    "s = 'AAAACCCGGT'"
   ]
  },
  {
   "cell_type": "code",
   "execution_count": 2,
   "id": "a19f2909-d526-42e8-8adf-654bf817f5af",
   "metadata": {},
   "outputs": [],
   "source": [
    "res = 'ACCGGGTTTT'"
   ]
  },
  {
   "cell_type": "markdown",
   "id": "fed56b75-a9c5-4dd2-86cb-095f9ce1f864",
   "metadata": {},
   "source": [
    "### Solution"
   ]
  },
  {
   "cell_type": "code",
   "execution_count": 3,
   "id": "7b3206d4-cac9-4fed-a350-75977b3995f7",
   "metadata": {},
   "outputs": [],
   "source": [
    "def reverse_complement(s):\n",
    "    reverse = s[::-1]\n",
    "    reverse = reverse.replace('A', 't')\n",
    "    reverse = reverse.replace('T', 'a')\n",
    "    reverse = reverse.replace('C', 'g')\n",
    "    reverse = reverse.replace('G', 'c')\n",
    "    return reverse.upper()"
   ]
  },
  {
   "cell_type": "code",
   "execution_count": 4,
   "id": "af41f18a-4749-43e2-a495-86811c641981",
   "metadata": {},
   "outputs": [],
   "source": [
    "assert reverse_complement(s) == res"
   ]
  },
  {
   "cell_type": "markdown",
   "id": "43bd7b15-6c3c-4ef8-afdb-b8ddffc3e196",
   "metadata": {},
   "source": [
    "### Real data:"
   ]
  },
  {
   "cell_type": "code",
   "execution_count": 5,
   "id": "cf4ff7f8-4cf3-42b0-a200-2d0c9030957e",
   "metadata": {},
   "outputs": [
    {
     "data": {
      "text/plain": [
       "'AATTATAGGCTAAAACTCGCTTCTTTTGAGTGCAGGCGCGTCCTTCAGCTACTTTGATCCGCACAAAACTGGCGGACTTACCACGCTATTGAGCCTAGCGTTATCTGATCCTAGCCTTCGTAACACACGCATGTAAGAACTATATACTACTACTTTCACTCTGAGAATGTTGCGCTCGGCGGAGCTCACAGAAACAAGTGCAGACCATCTGGAGACACCACGAGAGATAGTCTGCTTGGTTTGTCGGGCTATATATGATTTTATTCGGAGAATCACTAGACCAATACTGTAACGTTTCTAGTAAGGACCCGATCTGCCATGTACATGTAACTGGTAGATGTGATGAGCCCGGCCGGAACCGGATAGAAAGTCGCACGGACTTCTGCCTTACATTTGACTCCTCTAGGTTGCCCACACTCGGCGTGGACTGCATAACCGGAGCGTCCAACTGCCTATCTATTCCCTCAATATTGTCTGACTTCATCATGACCGGGTGGCTCCGCAACGGTTGTAGTTCATCCGGTCTCTTTGGAGATCCGTATACTTAGTGATCGCTCCGACACCAAACGGGTGCTAGAAGGCAGCGCCGCCGTAATTAATGCACGTCTGCTTATTTGGTGCATAACTCACACGCATACGTTCACTTTGGCCATATAATATAGTCTCAATGATACTTCGTCCTATTCGGGAAAGCGTAGGGCCCTTCTTAGGTGTGGGGAGGGGTGTTACTGATTTAAGACGCGGGCTCAAACTTAGGCTTCCGGTGATGCGCCCGAACTGTTAATTTTATGGTGATAACTGAACGGCGCGCGAATGCTCTGTAGCTGGGTTAAGCATCATCTTTAATCGAATGTGCCAAGGTCCTCGCCCACTAAGACAATGCCATGCGATTTGGATACATACCATAATGTGCTGGAAGCCATTCGCAAGGCAGTCCGCGCCGTATAACTCGTTAAGGTTCAGGTCTATGCGTCAGGCTTCGATTTAGGCG'"
      ]
     },
     "execution_count": 5,
     "metadata": {},
     "output_type": "execute_result"
    }
   ],
   "source": [
    "s = 'CGCCTAAATCGAAGCCTGACGCATAGACCTGAACCTTAACGAGTTATACGGCGCGGACTGCCTTGCGAATGGCTTCCAGCACATTATGGTATGTATCCAAATCGCATGGCATTGTCTTAGTGGGCGAGGACCTTGGCACATTCGATTAAAGATGATGCTTAACCCAGCTACAGAGCATTCGCGCGCCGTTCAGTTATCACCATAAAATTAACAGTTCGGGCGCATCACCGGAAGCCTAAGTTTGAGCCCGCGTCTTAAATCAGTAACACCCCTCCCCACACCTAAGAAGGGCCCTACGCTTTCCCGAATAGGACGAAGTATCATTGAGACTATATTATATGGCCAAAGTGAACGTATGCGTGTGAGTTATGCACCAAATAAGCAGACGTGCATTAATTACGGCGGCGCTGCCTTCTAGCACCCGTTTGGTGTCGGAGCGATCACTAAGTATACGGATCTCCAAAGAGACCGGATGAACTACAACCGTTGCGGAGCCACCCGGTCATGATGAAGTCAGACAATATTGAGGGAATAGATAGGCAGTTGGACGCTCCGGTTATGCAGTCCACGCCGAGTGTGGGCAACCTAGAGGAGTCAAATGTAAGGCAGAAGTCCGTGCGACTTTCTATCCGGTTCCGGCCGGGCTCATCACATCTACCAGTTACATGTACATGGCAGATCGGGTCCTTACTAGAAACGTTACAGTATTGGTCTAGTGATTCTCCGAATAAAATCATATATAGCCCGACAAACCAAGCAGACTATCTCTCGTGGTGTCTCCAGATGGTCTGCACTTGTTTCTGTGAGCTCCGCCGAGCGCAACATTCTCAGAGTGAAAGTAGTAGTATATAGTTCTTACATGCGTGTGTTACGAAGGCTAGGATCAGATAACGCTAGGCTCAATAGCGTGGTAAGTCCGCCAGTTTTGTGCGGATCAAAGTAGCTGAAGGACGCGCCTGCACTCAAAAGAAGCGAGTTTTAGCCTATAATT'\n",
    "reverse_complement(s)"
   ]
  },
  {
   "cell_type": "code",
   "execution_count": null,
   "id": "fc0a598d-2a7c-42ed-9e5f-dfd9a582aa29",
   "metadata": {},
   "outputs": [],
   "source": []
  }
 ],
 "metadata": {
  "kernelspec": {
   "display_name": "Python 3 (ipykernel)",
   "language": "python",
   "name": "python3"
  },
  "language_info": {
   "codemirror_mode": {
    "name": "ipython",
    "version": 3
   },
   "file_extension": ".py",
   "mimetype": "text/x-python",
   "name": "python",
   "nbconvert_exporter": "python",
   "pygments_lexer": "ipython3",
   "version": "3.9.13"
  }
 },
 "nbformat": 4,
 "nbformat_minor": 5
}
