{
 "cells": [
  {
   "cell_type": "markdown",
   "metadata": {},
   "source": [
    "# Problem\n",
    "\n",
    "Recall the definition of the Fibonacci numbers from “Rabbits and Recurrence Relations”, which\n",
    "followed the recurrence relation $F_n = F_{n−1} + F_{n−2}$ and assumed that each pair of rabbits\n",
    "reaches maturity in one month and produces a single pair of offspring (one male, one female) each\n",
    "subsequent month.\n",
    "\n",
    "Our aim is to somehow modify this recurrence relation to achieve a dynamic programming solution in\n",
    "the case that all rabbits die out after a fixed number of months. See Figure 4 for a depiction of a\n",
    "rabbit tree in which rabbits live for three months (meaning that they reproduce only twice before\n",
    "dying).\n",
    "\n",
    "### Example\n",
    "\n",
    "<font color=\"green\">**Given**</font>: Positive integers $n \\leq 100$ and $m \\leq 20$.\n",
    "\n",
    "<font color=\"green\">**Return**</font>: The total number of pairs of rabbits that will remain after\n",
    "the $n$-th month if all rabbits live for m months.\n",
    "\n",
    "#### Sample Dataset\n",
    "\n",
    "```\n",
    "6 3\n",
    "```\n",
    "\n",
    "#### Sample Output\n",
    "\n",
    "```\n",
    "4\n",
    "```"
   ]
  },
  {
   "cell_type": "code",
   "execution_count": 1,
   "metadata": {},
   "outputs": [],
   "source": [
    "n = 6\n",
    "m = 3\n",
    "\n",
    "assert n <= 100\n",
    "assert m <= 20"
   ]
  },
  {
   "cell_type": "markdown",
   "metadata": {},
   "source": [
    "I calculated the case for $m = 5$ until $n = 10$ and noticed that the new relation is\n",
    "$F_n = F_{n−1} + F_{n−2} - \\sum_{i=1}^n D_i$, where $D_n$ are the deaths at the $n$-th month. Of\n",
    "course, the deaths at month $n$ are the number of births $m$ months earlier, so we only need to\n",
    "calculate the number of births and deaths for the first $n$ months, then we can calculate the\n",
    "totals."
   ]
  },
  {
   "cell_type": "code",
   "execution_count": 2,
   "metadata": {},
   "outputs": [],
   "source": [
    "def births_deaths(n, m):\n",
    "    births = [0] * (n+1)\n",
    "    deaths = [0] * (n+1)\n",
    "    births[1] = 1\n",
    "    births[2] = 0\n",
    "    for i in range(3, n+1):\n",
    "        births[i] = births[i-1] + births[i-2] - deaths[i-1]\n",
    "        if i > m:\n",
    "            deaths[i] = births[i-m]\n",
    "    return births[1:], deaths[1:]"
   ]
  },
  {
   "cell_type": "code",
   "execution_count": 3,
   "metadata": {},
   "outputs": [],
   "source": [
    "def mortal_fibbonacci(n, m):\n",
    "    births, deaths = births_deaths(n, m)\n",
    "    # print(_births, deaths)\n",
    "    total = [0] * (n+1)\n",
    "    total[0] = 1\n",
    "    total[1] = 1\n",
    "    for i in range(2, n+1):\n",
    "        total[i] = total[i-1] + births[i-1] - deaths[i-1]\n",
    "    return total[1:]"
   ]
  },
  {
   "cell_type": "code",
   "execution_count": 4,
   "metadata": {},
   "outputs": [
    {
     "data": {
      "text/plain": [
       "[1, 1, 2, 3, 5, 7, 11, 17, 26, 40]"
      ]
     },
     "execution_count": 4,
     "metadata": {},
     "output_type": "execute_result"
    }
   ],
   "source": [
    "mortal_fibbonacci(10, 5)"
   ]
  },
  {
   "cell_type": "code",
   "execution_count": 5,
   "metadata": {},
   "outputs": [
    {
     "data": {
      "text/plain": [
       "1769967188277700563"
      ]
     },
     "execution_count": 5,
     "metadata": {},
     "output_type": "execute_result"
    }
   ],
   "source": [
    "wabbits = mortal_fibbonacci(89, 18)\n",
    "wabbits[-1]"
   ]
  }
 ],
 "metadata": {
  "kernelspec": {
   "display_name": "work",
   "language": "python",
   "name": "python3"
  },
  "language_info": {
   "codemirror_mode": {
    "name": "ipython",
    "version": 3
   },
   "file_extension": ".py",
   "mimetype": "text/x-python",
   "name": "python",
   "nbconvert_exporter": "python",
   "pygments_lexer": "ipython3",
   "version": "3.10.9"
  }
 },
 "nbformat": 4,
 "nbformat_minor": 2
}
