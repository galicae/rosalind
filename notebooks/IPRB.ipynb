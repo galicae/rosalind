{
 "cells": [
  {
   "attachments": {},
   "cell_type": "markdown",
   "metadata": {},
   "source": [
    "# Problem\n",
    "\n",
    "Probability is the mathematical study of randomly occurring phenomena. We will model such a\n",
    "phenomenon with a random variable, which is simply a variable that can take a number of different\n",
    "distinct outcomes depending on the result of an underlying random process.\n",
    "\n",
    "For example, say that we have a bag containing 3 red balls and 2 blue balls. If we let $X$ represent\n",
    " the random variable corresponding to the color of a drawn ball, then the probability of each of the\n",
    "two outcomes is given by $Pr(X=red)= \\frac{3}{5}$ and $Pr(X=blue)=\\frac{2}{5}$.\n",
    "\n",
    "Random variables can be combined to yield new random variables. Returning to the ball example, let\n",
    "$Y$ model the color of a second ball drawn from the bag (without replacing the first ball). The\n",
    "probability of Y Y being red depends on whether the first ball was red or blue. To represent all\n",
    "outcomes of $X$ and $Y$ , we therefore use a probability tree diagram. This branching diagram\n",
    "represents all possible individual probabilities for $X$ and $Y$, with outcomes at the endpoints\n",
    "(\"leaves\") of the tree. The probability of any outcome is given by the product of probabilities\n",
    "along the path from the beginning of the tree; see Figure 2 for an illustrative example.\n",
    "\n",
    "An event is simply a collection of outcomes. Because outcomes are distinct, the probability of an\n",
    "event can be written as the sum of the probabilities of its constituent outcomes. For our colored\n",
    " ball example, let $A$ be the event \"$Y$ is blue.\" $Pr(A)$ is equal to the sum of the probabilities\n",
    "of two different outcomes: $Pr(X=blue, Y=blue) + Pr(X=red, Y=blue)$, or\n",
    "$\\frac{3}{10}+\\frac{1}{10}=\\frac{2}{5}$\n",
    "\n",
    "Given: Three positive integers $k$, $m$, and $n$, representing a population containing $k+m+n$\n",
    "organisms: $k$ individuals are homozygous dominant for a factor, $m$ are heterozygous, and $n$ are\n",
    "homozygous recessive.\n",
    "\n",
    "Return: The probability that two randomly selected mating organisms will produce an individual\n",
    "possessing a dominant allele (and thus displaying the dominant phenotype). Assume that any two\n",
    "organisms can mate.\n",
    "\n",
    "### Sample Dataset\n",
    "```\n",
    "2 2 2\n",
    "```\n",
    "\n",
    "### Sample output\n",
    "```\n",
    "0.78333\n",
    "```\n",
    "\n",
    "# Test"
   ]
  },
  {
   "cell_type": "code",
   "execution_count": 2,
   "metadata": {},
   "outputs": [],
   "source": [
    "k = 2 # homozygous dominant\n",
    "m = 2 # heterozygous\n",
    "n = 2 # homozygous recessive\n",
    "\n",
    "pop = k + m + n # total population"
   ]
  },
  {
   "cell_type": "code",
   "execution_count": 4,
   "metadata": {},
   "outputs": [],
   "source": [
    "def prob_dom(k, m, n):\n",
    "    \"\"\"Probability of dominant phenotype\"\"\"\n",
    "    # homozygous dominant\n",
    "    p = k / pop\n",
    "    # heterozygous\n",
    "    p += m / pop * (k / (pop - 1) + 0.75 * (m - 1) / (pop - 1) + 0.5 * n / (pop - 1))\n",
    "    # homozygous recessive\n",
    "    p += n / pop * (k / (pop - 1) + 0.5 * m / (pop - 1))\n",
    "    return p"
   ]
  },
  {
   "cell_type": "code",
   "execution_count": 5,
   "metadata": {},
   "outputs": [
    {
     "data": {
      "text/plain": [
       "0.7833333333333332"
      ]
     },
     "execution_count": 5,
     "metadata": {},
     "output_type": "execute_result"
    }
   ],
   "source": [
    "prob_dom(k, m, n)"
   ]
  },
  {
   "attachments": {},
   "cell_type": "markdown",
   "metadata": {},
   "source": [
    "# Real"
   ]
  },
  {
   "cell_type": "code",
   "execution_count": 6,
   "metadata": {},
   "outputs": [],
   "source": [
    "k = 24\n",
    "m = 22\n",
    "n = 23\n",
    "\n",
    "pop = k + m + n"
   ]
  },
  {
   "cell_type": "code",
   "execution_count": 7,
   "metadata": {},
   "outputs": [
    {
     "data": {
      "text/plain": [
       "0.7596973572037511"
      ]
     },
     "execution_count": 7,
     "metadata": {},
     "output_type": "execute_result"
    }
   ],
   "source": [
    "prob_dom(k, m, n)"
   ]
  }
 ],
 "metadata": {
  "kernelspec": {
   "display_name": "work",
   "language": "python",
   "name": "python3"
  },
  "language_info": {
   "codemirror_mode": {
    "name": "ipython",
    "version": 3
   },
   "file_extension": ".py",
   "mimetype": "text/x-python",
   "name": "python",
   "nbconvert_exporter": "python",
   "pygments_lexer": "ipython3",
   "version": "3.10.9"
  },
  "orig_nbformat": 4
 },
 "nbformat": 4,
 "nbformat_minor": 2
}
