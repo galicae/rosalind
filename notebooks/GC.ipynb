{
 "cells": [
  {
   "attachments": {},
   "cell_type": "markdown",
   "metadata": {},
   "source": [
    "# Problem\n",
    "\n",
    "The GC-content of a DNA string is given by the percentage of symbols in the string that are 'C' or 'G'. For example, the GC-content of \"AGCTATAG\" is 37.5%. Note that the reverse complement of any DNA string has the same GC-content.\n",
    "\n",
    "DNA strings must be labeled when they are consolidated into a database. A commonly used method of string labeling is called FASTA format. In this format, the string is introduced by a line that begins with '>', followed by some labeling information. Subsequent lines contain the string itself; the first line to begin with '>' indicates the label of the next string.\n",
    "\n",
    "In Rosalind's implementation, a string in FASTA format will be labeled by the ID \"Rosalind_xxxx\", where \"xxxx\" denotes a four-digit code between 0000 and 9999.\n",
    "\n",
    "Given: At most 10 DNA strings in FASTA format (of length at most 1 kbp each).\n",
    "\n",
    "Return: The ID of the string having the highest GC-content, followed by the GC-content of that string. Rosalind allows for a default error of 0.001 in all decimal answers unless otherwise stated; please see the note on absolute error below.\n",
    "\n",
    "### Sample Dataset\n",
    "```\n",
    ">Rosalind_6404\n",
    "CCTGCGGAAGATCGGCACTAGAATAGCCAGAACCGTTTCTCTGAGGCTTCCGGCCTTCCC\n",
    "TCCCACTAATAATTCTGAGG\n",
    ">Rosalind_5959\n",
    "CCATCGGTAGCGCATCCTTAGTCCAATTAAGTCCCTATCCAGGCGCTCCGCCGAAGGTCT\n",
    "ATATCCATTTGTCAGCAGACACGC\n",
    ">Rosalind_0808\n",
    "CCACCCTCGTGGTATGGCTAGGCATTCAGGAACCGGAGAACGCTTCAGACCAGCCCGGAC\n",
    "TGGGAACCTGCGGGCAGTAGGTGGAAT\n",
    "```\n",
    "\n",
    "### Sample Output\n",
    "```\n",
    "Rosalind_0808\n",
    "60.919540\n",
    "```"
   ]
  },
  {
   "cell_type": "code",
   "execution_count": 1,
   "metadata": {},
   "outputs": [],
   "source": [
    "def read_fasta(file):\n",
    "    \"\"\"\n",
    "    Reads a fasta file and returns a dictionary with the name of the sequence as key and the\n",
    "    nucleotide sequence as value.\n",
    "\n",
    "    Parameters\n",
    "    ----------\n",
    "        file : str\n",
    "            Path to the fasta file\n",
    "\n",
    "    Returns\n",
    "    -------\n",
    "        fasta : dict\n",
    "            Dictionary with the name of the sequence as key and the nucleotide sequence as value\n",
    "\n",
    "    Examples\n",
    "    --------\n",
    "    >>> read_fasta(\"data/sequence.fasta\")\n",
    "    {'seq1': 'ACGTGAGCTAGC', 'seq2': 'ACGTGAGCTAGC'}\n",
    "    \"\"\"\n",
    "    fasta = {}\n",
    "    with open(file, \"r\") as f:\n",
    "        data = f.read().split(\">\")\n",
    "        for seq in data:\n",
    "            name = seq.split(\"\\n\")[0]\n",
    "            nuc = \"\".join(seq.split(\"\\n\")[1:])\n",
    "            fasta[name] = nuc\n",
    "    return fasta"
   ]
  },
  {
   "cell_type": "code",
   "execution_count": 2,
   "metadata": {},
   "outputs": [],
   "source": [
    "def gc_content(seq):\n",
    "    if len(seq) == 0:\n",
    "        return 0\n",
    "    return (seq.count(\"G\") + seq.count(\"C\")) / len(seq)"
   ]
  },
  {
   "cell_type": "code",
   "execution_count": 3,
   "metadata": {},
   "outputs": [],
   "source": [
    "def max_gc(fasta):\n",
    "    max_gc = 0\n",
    "    max_name = \"\"\n",
    "    for name, seq in fasta.items():\n",
    "        gc = gc_content(seq)\n",
    "        if gc > max_gc:\n",
    "            max_gc = gc\n",
    "            max_name = name\n",
    "    return max_name, max_gc"
   ]
  },
  {
   "cell_type": "code",
   "execution_count": 4,
   "metadata": {},
   "outputs": [
    {
     "data": {
      "text/plain": [
       "('Rosalind_0808', 0.6091954022988506)"
      ]
     },
     "execution_count": 4,
     "metadata": {},
     "output_type": "execute_result"
    }
   ],
   "source": [
    "test = read_fasta(\"../files/GC_train.txt\")\n",
    "max_gc(test)"
   ]
  },
  {
   "attachments": {},
   "cell_type": "markdown",
   "metadata": {},
   "source": [
    "## Solution"
   ]
  },
  {
   "cell_type": "code",
   "execution_count": 5,
   "metadata": {},
   "outputs": [
    {
     "name": "stdout",
     "output_type": "stream",
     "text": [
      "Rosalind_3678\n",
      "0.5305498981670062\n"
     ]
    }
   ],
   "source": [
    "real = read_fasta(\"../files/GC_real.txt\")\n",
    "name, gc = max_gc(real)\n",
    "\n",
    "print(name)\n",
    "print(gc)"
   ]
  }
 ],
 "metadata": {
  "kernelspec": {
   "display_name": "work",
   "language": "python",
   "name": "python3"
  },
  "language_info": {
   "codemirror_mode": {
    "name": "ipython",
    "version": 3
   },
   "file_extension": ".py",
   "mimetype": "text/x-python",
   "name": "python",
   "nbconvert_exporter": "python",
   "pygments_lexer": "ipython3",
   "version": "3.10.9"
  },
  "orig_nbformat": 4
 },
 "nbformat": 4,
 "nbformat_minor": 2
}
