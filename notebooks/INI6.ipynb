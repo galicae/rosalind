{
 "cells": [
  {
   "cell_type": "markdown",
   "id": "18ec639e-59e3-4133-acc7-147644a3697c",
   "metadata": {},
   "source": [
    "# Problem\n",
    "\n",
    "Given: A string $s$ of length at most 10000 letters.\n",
    "\n",
    "Return: The number of occurrences of each word in $s$, where words are separated by spaces. Words are case-sensitive, and the lines in the output can be in any order.\n",
    "\n",
    "### Sample Dataset"
   ]
  },
  {
   "cell_type": "code",
   "execution_count": 1,
   "id": "65bf8e32-c8c6-43ec-8765-8340f65c60ac",
   "metadata": {},
   "outputs": [],
   "source": [
    "training = 'We tried list and we tried dicts also we tried Zen'"
   ]
  },
  {
   "cell_type": "markdown",
   "id": "90f97f75-6043-4fa7-aee3-8a7aca2e51d1",
   "metadata": {},
   "source": [
    "### Solution"
   ]
  },
  {
   "cell_type": "code",
   "execution_count": 2,
   "id": "5df19eaa-bee6-4de6-872e-1c56d0d855ea",
   "metadata": {},
   "outputs": [],
   "source": [
    "import numpy as np"
   ]
  },
  {
   "cell_type": "code",
   "execution_count": 3,
   "id": "f84bfa64-1492-4ac7-9def-019fcfe790ae",
   "metadata": {},
   "outputs": [],
   "source": [
    "def count_occurrence(string):\n",
    "    as_list = string.split()\n",
    "    words, counts = np.unique(as_list, return_counts=True)\n",
    "\n",
    "    for word, count in zip(words, counts):\n",
    "        print(word, count)"
   ]
  },
  {
   "cell_type": "code",
   "execution_count": 4,
   "id": "a13f5d1b-ef3e-4b46-9466-75a8c289cbe6",
   "metadata": {},
   "outputs": [
    {
     "name": "stdout",
     "output_type": "stream",
     "text": [
      "We 1\n",
      "Zen 1\n",
      "also 1\n",
      "and 1\n",
      "dicts 1\n",
      "list 1\n",
      "tried 3\n",
      "we 2\n"
     ]
    }
   ],
   "source": [
    "count_occurrence(training)"
   ]
  },
  {
   "cell_type": "markdown",
   "id": "f7dc90d1-e5fa-4db1-9631-5f984c05a0fb",
   "metadata": {
    "tags": []
   },
   "source": [
    "### Real data"
   ]
  },
  {
   "cell_type": "code",
   "execution_count": 5,
   "id": "59ef33b2-8664-4b6d-b10e-1ec647a85a09",
   "metadata": {},
   "outputs": [
    {
     "name": "stdout",
     "output_type": "stream",
     "text": [
      "And 3\n",
      "For 1\n",
      "I 2\n",
      "Let 6\n",
      "Mary 2\n",
      "Mother 2\n",
      "Shine 1\n",
      "Speaking 3\n",
      "There 4\n",
      "When 1\n",
      "Whisper 4\n",
      "a 2\n",
      "agree 1\n",
      "an 4\n",
      "answer 4\n",
      "be 41\n",
      "broken 1\n",
      "chance 1\n",
      "cloudy 1\n",
      "comes 2\n",
      "darkness 1\n",
      "find 1\n",
      "front 1\n",
      "hearted 1\n",
      "hour 1\n",
      "in 4\n",
      "is 4\n",
      "it 36\n",
      "let 30\n",
      "light 1\n",
      "living 1\n",
      "may 1\n",
      "me 4\n",
      "music 1\n",
      "my 1\n",
      "myself 1\n",
      "night 1\n",
      "of 11\n",
      "on 1\n",
      "parted 1\n",
      "people 1\n",
      "right 1\n",
      "see 1\n",
      "she 1\n",
      "shines 1\n",
      "sound 1\n",
      "standing 1\n",
      "still 2\n",
      "that 2\n",
      "the 4\n",
      "there 2\n",
      "they 2\n",
      "though 1\n",
      "times 1\n",
      "to 3\n",
      "tomorrow 1\n",
      "trouble 1\n",
      "until 1\n",
      "up 1\n",
      "wake 1\n",
      "when 2\n",
      "will 5\n",
      "wisdom 7\n",
      "words 7\n",
      "world 1\n",
      "yeah 2\n"
     ]
    }
   ],
   "source": [
    "data = 'When I find myself in times of trouble Mother Mary comes to me Speaking words of wisdom let it be And in my hour of darkness she is standing right in front of me Speaking words of wisdom let it be Let it be let it be let it be let it be Whisper words of wisdom let it be And when the broken hearted people living in the world agree There will be an answer let it be For though they may be parted there is still a chance that they will see There will be an answer let it be Let it be let it be let it be let it be There will be an answer let it be Let it be let it be let it be let it be Whisper words of wisdom let it be Let it be let it be let it be let it be Whisper words of wisdom let it be And when the night is cloudy there is still a light that shines on me Shine until tomorrow let it be I wake up to the sound of music Mother Mary comes to me Speaking words of wisdom let it be Let it be let it be let it be yeah let it be There will be an answer let it be Let it be let it be let it be yeah let it be Whisper words of wisdom let it be'\n",
    "count_occurrence(data)"
   ]
  }
 ],
 "metadata": {
  "kernelspec": {
   "display_name": "Python 3 (ipykernel)",
   "language": "python",
   "name": "python3"
  },
  "language_info": {
   "codemirror_mode": {
    "name": "ipython",
    "version": 3
   },
   "file_extension": ".py",
   "mimetype": "text/x-python",
   "name": "python",
   "nbconvert_exporter": "python",
   "pygments_lexer": "ipython3",
   "version": "3.9.13"
  }
 },
 "nbformat": 4,
 "nbformat_minor": 5
}
