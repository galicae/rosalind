{
 "cells": [
  {
   "cell_type": "markdown",
   "id": "24615845",
   "metadata": {},
   "source": [
    "# Problem\n",
    "\n",
    "A permutation of length n is an ordering of the positive integers {1,2,…,n}. For example, π=(5,3,2,1,4) is a permutation of length 5.\n",
    "\n",
    "**Given:** A positive integer n≤7.\n",
    "\n",
    "**Return:** The total number of permutations of length n, followed by a list of all such permutations (in any order).\n",
    "\n",
    "\n",
    "### Sample Dataset\n",
    "\n",
    "```\n",
    "3\n",
    "```\n",
    "\n",
    "### Sample Output\n",
    "\n",
    "```\n",
    "6\n",
    "1 2 3\n",
    "1 3 2\n",
    "2 1 3\n",
    "2 3 1\n",
    "3 1 2\n",
    "3 2 1\n",
    "```"
   ]
  },
  {
   "cell_type": "code",
   "execution_count": 1,
   "id": "034e2992",
   "metadata": {},
   "outputs": [],
   "source": [
    "import math\n",
    "import copy"
   ]
  },
  {
   "cell_type": "code",
   "execution_count": null,
   "id": "ef115c77",
   "metadata": {},
   "outputs": [],
   "source": [
    "def get_permutation(seq, to_permute, buffer):\n",
    "    if len(to_permute) == 1:\n",
    "        buffer.write(f\"{seq} {to_permute[0]}\\n\".lstrip())\n",
    "    else:\n",
    "        for i, item in enumerate(to_permute):\n",
    "            new_seq = f\"{seq} {item}\"\n",
    "            new_permute = copy.deepcopy(to_permute)\n",
    "            del new_permute[i]\n",
    "            get_permutation(new_seq, new_permute, buffer)"
   ]
  },
  {
   "cell_type": "code",
   "execution_count": 3,
   "id": "77f8bb2e",
   "metadata": {},
   "outputs": [
    {
     "ename": "TypeError",
     "evalue": "get_permutation() missing 1 required positional argument: 'buffer'",
     "output_type": "error",
     "traceback": [
      "\u001b[31m---------------------------------------------------------------------------\u001b[39m",
      "\u001b[31mTypeError\u001b[39m                                 Traceback (most recent call last)",
      "\u001b[36mCell\u001b[39m\u001b[36m \u001b[39m\u001b[32mIn[3]\u001b[39m\u001b[32m, line 7\u001b[39m\n\u001b[32m      5\u001b[39m \u001b[38;5;28;01mwith\u001b[39;00m \u001b[38;5;28mopen\u001b[39m(\u001b[33m'\u001b[39m\u001b[33mperm.txt\u001b[39m\u001b[33m'\u001b[39m, \u001b[33m'\u001b[39m\u001b[33mw\u001b[39m\u001b[33m'\u001b[39m) \u001b[38;5;28;01mas\u001b[39;00m out:\n\u001b[32m      6\u001b[39m     out.write(\u001b[33mf\u001b[39m\u001b[33m\"\u001b[39m\u001b[38;5;132;01m{\u001b[39;00mno_permutations\u001b[38;5;132;01m}\u001b[39;00m\u001b[38;5;130;01m\\n\u001b[39;00m\u001b[33m\"\u001b[39m)\n\u001b[32m----> \u001b[39m\u001b[32m7\u001b[39m     \u001b[43mget_permutation\u001b[49m\u001b[43m(\u001b[49m\u001b[33;43m'\u001b[39;49m\u001b[33;43m'\u001b[39;49m\u001b[43m,\u001b[49m\u001b[43m \u001b[49m\u001b[43mto_permute\u001b[49m\u001b[43m,\u001b[49m\u001b[43m \u001b[49m\u001b[43mout\u001b[49m\u001b[43m)\u001b[49m\n",
      "\u001b[36mCell\u001b[39m\u001b[36m \u001b[39m\u001b[32mIn[2]\u001b[39m\u001b[32m, line 9\u001b[39m, in \u001b[36mget_permutation\u001b[39m\u001b[34m(seq, to_permute, buffer)\u001b[39m\n\u001b[32m      7\u001b[39m new_permute = copy.deepcopy(to_permute)\n\u001b[32m      8\u001b[39m \u001b[38;5;28;01mdel\u001b[39;00m new_permute[i]\n\u001b[32m----> \u001b[39m\u001b[32m9\u001b[39m \u001b[43mget_permutation\u001b[49m\u001b[43m(\u001b[49m\u001b[43mnew_seq\u001b[49m\u001b[43m,\u001b[49m\u001b[43m \u001b[49m\u001b[43mnew_permute\u001b[49m\u001b[43m)\u001b[49m\n",
      "\u001b[31mTypeError\u001b[39m: get_permutation() missing 1 required positional argument: 'buffer'"
     ]
    }
   ],
   "source": [
    "n = 7\n",
    "no_permutations = math.factorial(n)\n",
    "to_permute = [str(i+1) for i in range(n)]\n",
    "\n",
    "with open('perm.txt', 'w') as out:\n",
    "    out.write(f\"{no_permutations}\\n\")\n",
    "    get_permutation('', to_permute, out)"
   ]
  }
 ],
 "metadata": {
  "kernelspec": {
   "display_name": "simple-compute",
   "language": "python",
   "name": "python3"
  },
  "language_info": {
   "codemirror_mode": {
    "name": "ipython",
    "version": 3
   },
   "file_extension": ".py",
   "mimetype": "text/x-python",
   "name": "python",
   "nbconvert_exporter": "python",
   "pygments_lexer": "ipython3",
   "version": "3.13.5"
  }
 },
 "nbformat": 4,
 "nbformat_minor": 5
}
