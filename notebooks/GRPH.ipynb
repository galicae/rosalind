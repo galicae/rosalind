{
 "cells": [
  {
   "cell_type": "code",
   "execution_count": 1,
   "metadata": {},
   "outputs": [],
   "source": [
    "test = {\n",
    "    \"Rosalind_0498\": \"AAATAAA\",\n",
    "    \"Rosalind_2391\": \"AAATTTT\",\n",
    "    \"Rosalind_2323\": \"TTTTCCC\",\n",
    "    \"Rosalind_0442\": \"AAATCCC\",\n",
    "    \"Rosalind_5013\": \"GGGTGGG\"\n",
    "}"
   ]
  },
  {
   "cell_type": "code",
   "execution_count": 11,
   "metadata": {},
   "outputs": [],
   "source": [
    "def get_suffix(sequences, k=3):\n",
    "    suffix_array = {}\n",
    "    for seq_id, seq in sequences.items():\n",
    "        suffix_array[seq_id] = seq[-k:]\n",
    "    return suffix_array\n",
    "\n",
    "def get_prefix(sequences, k=3):\n",
    "    prefix_array = {}\n",
    "    for seq_id, seq in sequences.items():\n",
    "        prefix_array[seq_id] = seq[:k]\n",
    "    return prefix_array\n",
    "\n",
    "def generate_graph(sequence_dict, k=3):\n",
    "    pref = get_prefix(sequence_dict, k=k)\n",
    "    suff = get_suffix(sequence_dict, k=k)\n",
    "    sequences = list(sequence_dict.keys())\n",
    "    graph = []\n",
    "    for s in sequences[:-1]:\n",
    "        for t in sequences[1:]:\n",
    "            if s == t:\n",
    "                continue\n",
    "            if suff[s] == pref[t]:\n",
    "                graph.append([s, t])\n",
    "    return graph"
   ]
  },
  {
   "cell_type": "code",
   "execution_count": 12,
   "metadata": {},
   "outputs": [],
   "source": [
    "def rosalind_print(graph):\n",
    "    for pair in graph:\n",
    "        print(pair[0], pair[1])"
   ]
  },
  {
   "cell_type": "code",
   "execution_count": 13,
   "metadata": {},
   "outputs": [
    {
     "name": "stdout",
     "output_type": "stream",
     "text": [
      "Rosalind_0498 Rosalind_2391\n",
      "Rosalind_0498 Rosalind_0442\n",
      "Rosalind_2391 Rosalind_2323\n"
     ]
    }
   ],
   "source": [
    "g = generate_graph(test)\n",
    "rosalind_print(g)"
   ]
  },
  {
   "cell_type": "code",
   "execution_count": 14,
   "metadata": {},
   "outputs": [
    {
     "ename": "ModuleNotFoundError",
     "evalue": "No module named 'GC'",
     "output_type": "error",
     "traceback": [
      "\u001b[0;31m---------------------------------------------------------------------------\u001b[0m",
      "\u001b[0;31mModuleNotFoundError\u001b[0m                       Traceback (most recent call last)",
      "Cell \u001b[0;32mIn[14], line 1\u001b[0m\n\u001b[0;32m----> 1\u001b[0m \u001b[38;5;28;01mfrom\u001b[39;00m \u001b[38;5;21;01mGC\u001b[39;00m \u001b[38;5;28;01mimport\u001b[39;00m read_fasta\n",
      "\u001b[0;31mModuleNotFoundError\u001b[0m: No module named 'GC'"
     ]
    }
   ],
   "source": [
    "from GC import read_fasta"
   ]
  },
  {
   "cell_type": "code",
   "execution_count": null,
   "metadata": {},
   "outputs": [],
   "source": []
  }
 ],
 "metadata": {
  "kernelspec": {
   "display_name": "decode",
   "language": "python",
   "name": "python3"
  },
  "language_info": {
   "codemirror_mode": {
    "name": "ipython",
    "version": 3
   },
   "file_extension": ".py",
   "mimetype": "text/x-python",
   "name": "python",
   "nbconvert_exporter": "python",
   "pygments_lexer": "ipython3",
   "version": "3.11.5"
  }
 },
 "nbformat": 4,
 "nbformat_minor": 2
}
