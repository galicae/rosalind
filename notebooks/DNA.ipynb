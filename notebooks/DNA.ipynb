{
 "cells": [
  {
   "cell_type": "markdown",
   "id": "e3cdaae7-a221-4457-8a96-738459e17255",
   "metadata": {},
   "source": [
    "# Problem\n",
    "\n",
    "A string is simply an ordered collection of symbols selected from some alphabet and formed into a word; the length of a string is the number of symbols that it contains.\n",
    "\n",
    "An example of a length 21 DNA string (whose alphabet contains the symbols 'A', 'C', 'G', and 'T') is \"ATGCTTCAGAAAGGTCTTACG.\"\n",
    "\n",
    "Given: A DNA string $s$ of length at most 1000 nt.\n",
    "\n",
    "Return: Four integers (separated by spaces) counting the respective number of times that the symbols 'A', 'C', 'G', and 'T' occur in $s$\n",
    "\n",
    "### Sample Dataset"
   ]
  },
  {
   "cell_type": "code",
   "execution_count": 1,
   "id": "1b50a33a-6561-4505-98f8-c13cad0d064b",
   "metadata": {},
   "outputs": [],
   "source": [
    "s = 'AGCTTTTCATTCTGACTGCAACGGGCAATATGTCTCTGTGTGGATTAAAAAAAGAGTGTCTGATAGCAGC'"
   ]
  },
  {
   "cell_type": "markdown",
   "id": "d102ed97-beca-4ddd-baa0-bafcf0d1af18",
   "metadata": {},
   "source": [
    "### Sample output"
   ]
  },
  {
   "cell_type": "code",
   "execution_count": 2,
   "id": "2d657ddb-90e0-4d24-bb1a-3c1c0f33cb64",
   "metadata": {},
   "outputs": [
    {
     "data": {
      "text/plain": [
       "'20 12 17 21'"
      ]
     },
     "execution_count": 2,
     "metadata": {},
     "output_type": "execute_result"
    }
   ],
   "source": [
    "res = '20 12 17 21'\n",
    "res"
   ]
  },
  {
   "cell_type": "markdown",
   "id": "6363fc9a-fbe1-45a3-807a-b0da7041d32f",
   "metadata": {},
   "source": [
    "### Solution"
   ]
  },
  {
   "cell_type": "code",
   "execution_count": 3,
   "id": "9a1ffb43-a8e1-46ea-8577-3e6d7a8974aa",
   "metadata": {},
   "outputs": [],
   "source": [
    "import numpy as np"
   ]
  },
  {
   "cell_type": "code",
   "execution_count": 4,
   "id": "679c6bad-ee52-45cf-8dd0-e9f5acf1c76b",
   "metadata": {},
   "outputs": [],
   "source": [
    "def count_letter_frequencies(s, order=['A', 'C', 'G', 'T']):\n",
    "    bases, freq = np.unique(list(s), return_counts=True)\n",
    "    res = {b: f for b, f in zip(bases, freq)}\n",
    "    output = ' '.join([f'{res[letter]}' for letter in order])\n",
    "    return output"
   ]
  },
  {
   "cell_type": "code",
   "execution_count": 5,
   "id": "23a3f837-e2a1-4c95-afe5-3c902a73d791",
   "metadata": {},
   "outputs": [
    {
     "data": {
      "text/plain": [
       "'20 12 17 21'"
      ]
     },
     "execution_count": 5,
     "metadata": {},
     "output_type": "execute_result"
    }
   ],
   "source": [
    "count_letter_frequencies(s)"
   ]
  },
  {
   "cell_type": "code",
   "execution_count": 6,
   "id": "7aa4eed8-1bd7-4439-b55c-c624b86de371",
   "metadata": {},
   "outputs": [],
   "source": [
    "assert(count_letter_frequencies(s) == res)"
   ]
  },
  {
   "cell_type": "markdown",
   "id": "d4136dff-3041-4d59-92f8-7c86e05a1ddf",
   "metadata": {},
   "source": [
    "### Real data"
   ]
  },
  {
   "cell_type": "code",
   "execution_count": 7,
   "id": "64926aab-5ab0-47de-833f-cfc038f4b2e9",
   "metadata": {},
   "outputs": [
    {
     "data": {
      "text/plain": [
       "'229 200 196 200'"
      ]
     },
     "execution_count": 7,
     "metadata": {},
     "output_type": "execute_result"
    }
   ],
   "source": [
    "data = 'TCCGATGCAGTTGCAACATGTCGTAGAAAGTATCAGAGTACGGCACTATAGATAACATACTAGTCTAAGCGCGAAATCAGGTCTCAAAAGAGGGACTTATGTGCTTGCCATGCAGTCGGGCGAAAGGGAGTCATGCGTATTCACAGCAATTACGCGCTCTCATTTCATATACAAGTCCGTACACTATTATCTAATCCTTGAAGACTACTACGGTCTCTATGCTCAAAGACAATCCTCTACGCATCGATTTCGGTTCGTCCTGGTCGTGCCAACAGTGAAACGGTTCTAAATATCCTCGCCGCTCACGTCTCGTCCATTTTTTACCGGTCATGGTTGGAGTAAAACGACTTGAACAATAACGGTAGAGGTCGAGTCTGGTTCCTGACCGAGTGAAGGATCTCCCGAACCTCCATCGCGGTGCAGAGCTTACCACCTGACTAACAGCGCGATCGAGGAGATTGGCATTAACTCGTTGCCAGGGTTCGGTATTATCGAGCAAGGTAACGACGTTGCAGTCCCCTAGTTAACGTTTAATGCCCCATCGTATAGAACAAAGTGAACTGCGCAAACTCGCACGATAATATTACACATGGCGACTGATACTTGCCTAATTGAGAGATGTGGAACCGAGGTACGGCATCCCGGAAAATGTCTACAGCCTAGATAATATGGTACGCAAGGGAACGATAAGCGTACTTTGACTAAGCACCGCAGTGAGAAATTACCAGCGTTTACGGTAATACCGCCGGCGCCCTCGACCATATACTGCGACGCGGTGTTCCGGTTTTGGGATCAAAACAGTGATCGCCTCAATCGGAGAATGAC'\n",
    "count_letter_frequencies(data)"
   ]
  },
  {
   "cell_type": "code",
   "execution_count": null,
   "id": "0870d49e-d8d8-4850-a3a2-1f4456ee8c15",
   "metadata": {},
   "outputs": [],
   "source": []
  }
 ],
 "metadata": {
  "kernelspec": {
   "display_name": "Python 3 (ipykernel)",
   "language": "python",
   "name": "python3"
  },
  "language_info": {
   "codemirror_mode": {
    "name": "ipython",
    "version": 3
   },
   "file_extension": ".py",
   "mimetype": "text/x-python",
   "name": "python",
   "nbconvert_exporter": "python",
   "pygments_lexer": "ipython3",
   "version": "3.9.13"
  }
 },
 "nbformat": 4,
 "nbformat_minor": 5
}
