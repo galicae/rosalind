{
 "cells": [
  {
   "cell_type": "markdown",
   "metadata": {},
   "source": [
    "# Problem\n",
    "\n",
    "For positive integers $a$ and $n$, $a \\mod n$ is the remainder when $a$ is divided by $n$. For\n",
    "example, $29 \\mod 11 = 7$ because $29=11 \\times 2 + 7$.\n",
    "\n",
    "Modular arithmetic is the study of addition, subtraction, multiplication, and division with respect\n",
    "to the modulo operation. We say that $a$ and $b$ are congruent modulo $n$ if $a \\mod n = b \\mod n$;\n",
    "in this case, we use the notation $a \\equiv b \\mod n$.\n",
    "\n",
    "Two useful facts in modular arithmetic are that if $a \\equiv b \\mod n$ and $c \\equiv d \\mod n$, then\n",
    "$a+c \\equiv (b+d) \\mod n$ and $a \\times c \\equiv (b+d) \\mod n$. To check your understanding of these\n",
    "rules, you may wish to verify these relationships for a=29, b=73, c=10, d=32, and n=11.\n",
    "\n",
    "As you will see in this exercise, some Rosalind problems will ask for a (very large) integer\n",
    "solution modulo a smaller number to avoid the computational pitfalls that arise with storing such\n",
    "large numbers.\n",
    "\n",
    "<font color=\"red\">Given</font>: A protein string of length at most 1000 aa.\n",
    "\n",
    "<font color=\"red\">Return</font>: The total number of different RNA strings from which the protein\n",
    "could have been translated, modulo 1,000,000. (Don't neglect the importance of the stop codon in\n",
    "protein translation.)\n",
    "\n",
    "### Sample Dataset\n",
    "\n",
    "```\n",
    "MA\n",
    "```\n",
    "\n",
    "### Sample Output\n",
    "\n",
    "```\n",
    "12\n",
    "```"
   ]
  },
  {
   "cell_type": "code",
   "execution_count": 1,
   "metadata": {},
   "outputs": [],
   "source": [
    "CODONS = {\n",
    "    \"UUU\": \"F\", \"CUU\": \"L\", \"AUU\": \"I\", \"GUU\": \"V\",\n",
    "    \"UUC\": \"F\", \"CUC\": \"L\", \"AUC\": \"I\", \"GUC\": \"V\",\n",
    "    \"UUA\": \"L\", \"CUA\": \"L\", \"AUA\": \"I\", \"GUA\": \"V\",\n",
    "    \"UUG\": \"L\", \"CUG\": \"L\", \"AUG\": \"M\", \"GUG\": \"V\",\n",
    "    \"UCU\": \"S\", \"CCU\": \"P\", \"ACU\": \"T\", \"GCU\": \"A\",\n",
    "    \"UCC\": \"S\", \"CCC\": \"P\", \"ACC\": \"T\", \"GCC\": \"A\",\n",
    "    \"UCA\": \"S\", \"CCA\": \"P\", \"ACA\": \"T\", \"GCA\": \"A\",\n",
    "    \"UCG\": \"S\", \"CCG\": \"P\", \"ACG\": \"T\", \"GCG\": \"A\",\n",
    "    \"UAU\": \"Y\", \"CAU\": \"H\", \"AAU\": \"N\", \"GAU\": \"D\",\n",
    "    \"UAC\": \"Y\", \"CAC\": \"H\", \"AAC\": \"N\", \"GAC\": \"D\",\n",
    "    \"UAA\": \"Stop\", \"CAA\": \"Q\", \"AAA\": \"K\", \"GAA\": \"E\",\n",
    "    \"UAG\": \"Stop\", \"CAG\": \"Q\", \"AAG\": \"K\", \"GAG\": \"E\",\n",
    "    \"UGU\": \"C\", \"CGU\": \"R\", \"AGU\": \"S\", \"GGU\": \"G\",\n",
    "    \"UGC\": \"C\", \"CGC\": \"R\", \"AGC\": \"S\", \"GGC\": \"G\",\n",
    "    \"UGA\": \"Stop\", \"CGA\": \"R\", \"AGA\": \"R\", \"GGA\": \"G\",\n",
    "    \"UGG\": \"W\", \"CGG\": \"R\", \"AGG\": \"R\", \"GGG\": \"G\"\n",
    "}"
   ]
  },
  {
   "cell_type": "code",
   "execution_count": 2,
   "metadata": {},
   "outputs": [],
   "source": [
    "aminoacids = set(CODONS.values())\n",
    "freq = {aa: 0 for aa in aminoacids}\n",
    "for codon in CODONS:\n",
    "    freq[CODONS[codon]] += 1"
   ]
  },
  {
   "cell_type": "code",
   "execution_count": 3,
   "metadata": {},
   "outputs": [],
   "source": [
    "def naive(peptide, aa_freq):\n",
    "    possible_rna = 1\n",
    "    for aminoacid in peptide:\n",
    "        possible_rna *= aa_freq[aminoacid]\n",
    "    possible_rna *= aa_freq[\"Stop\"]\n",
    "\n",
    "    return possible_rna"
   ]
  },
  {
   "cell_type": "code",
   "execution_count": 4,
   "metadata": {},
   "outputs": [],
   "source": [
    "def smarter(peptide, aa_freq):\n",
    "    possible_rna = 1\n",
    "    for aminoacid in peptide:\n",
    "        possible_rna %= 10e5\n",
    "        possible_rna *= aa_freq[aminoacid]\n",
    "        possible_rna %= 10e5\n",
    "    possible_rna *= aa_freq[\"Stop\"]\n",
    "    possible_rna %= 10e5\n",
    "\n",
    "    return int(possible_rna)"
   ]
  },
  {
   "cell_type": "code",
   "execution_count": 5,
   "metadata": {},
   "outputs": [
    {
     "data": {
      "text/plain": [
       "12"
      ]
     },
     "execution_count": 5,
     "metadata": {},
     "output_type": "execute_result"
    }
   ],
   "source": [
    "naive(\"MA\", freq)"
   ]
  },
  {
   "cell_type": "code",
   "execution_count": 6,
   "metadata": {},
   "outputs": [
    {
     "data": {
      "text/plain": [
       "(5157212399245267773085974528, 974528)"
      ]
     },
     "execution_count": 6,
     "metadata": {},
     "output_type": "execute_result"
    }
   ],
   "source": [
    "prot = \"L\" * 35\n",
    "naive(prot, freq), smarter(prot, freq)\n",
    "# smarter(prot, freq)"
   ]
  },
  {
   "cell_type": "code",
   "execution_count": 7,
   "metadata": {},
   "outputs": [],
   "source": [
    "run = \"MWSCQNCFFCFKSFNKRGDRHHTNQQMHQDLHKYWRGTMMCSSWRNDITARKDESKFVCRRHSPENITHNRLTTACWWPSTGKEMEPRLDKQEALQSNADWFDECFDKSRLWQRNMHYHATMQQRGGWFLVDLCYQTYYNNEMWSSEGQNQAYEHFMNMNIVRTLCMQCNDQDVIWDRWDKSHDCVGQAAEWDYVCQVEETWPVSVHNDVSQWYDVPEPWQCAKVNKQFPFMWCWKYVMAPADHKDQNYRPTHWDQRHKIDMDEYIVMFAMGYYAHAHLSTTFAWNHLEIQCKDWEMKDVAGRDVPMCAHGTIFCVTMFHEWWQWKRFMIDAWMVTNSRVPACMQLPYFCHDAHFNHQYQITPHIQFNGGASYCDHMENYGGYGPDMGMDEQFSNFITTTYYWDVMANRSYVEMMRSVSGCHWISPQPNVTGKMKSVTRRPPCAYRTMVVWFFPLIQDMMEAGYAHEALQNDNSDKCDCLPTHGIYKEIWIYHPLWWHGFDRADSYYCNAHHMNQNVEPGRRKLRPNHAGAYCGAMAVGISQGHQGVPISNHSTHVFNCPDFCSVVGFGHFKVHFIPPKTEGTKFLGELWCGHLPGYAKGNIANHRNEHDLKAKALHDSFSGDNHDNSSGDMRVCLKSHMMIRSIFYKDKQCIWQSSDAHMQRPMVIHLQSYFNTKTWILIPAKLLNTEDIVNLCHNKVKMAISAYACHKNGPDQVTPENMCVIIERMRFMGVVVFFCWFSSHKAKEVIGMISEYQKQWTVFLMTMMCKYARKTRRNLADVYDLQFNVAYFSWWYRPDYAVSWNEDKNWTSYKAMNVQKRYERWGNHWPIKCHDCELDTCRLCILCVDTLDTEYECIKGRNPHKLPMWCPMFRNYRIMVIKKLMNTRQSHMLMQEAVSYVGSFNDIFLVFGWGAHRPHQWFYTHTYMIVKHKRGPWQPIHNPFDYFFLEWCMVQWEDHKGTSTIHITYDYEGQEMVCGAASNSPVTEALTPWEMKCSFQV\""
   ]
  },
  {
   "cell_type": "code",
   "execution_count": 8,
   "metadata": {},
   "outputs": [
    {
     "data": {
      "text/plain": [
       "722176"
      ]
     },
     "execution_count": 8,
     "metadata": {},
     "output_type": "execute_result"
    }
   ],
   "source": [
    "smarter(run, freq)"
   ]
  },
  {
   "cell_type": "code",
   "execution_count": 9,
   "metadata": {},
   "outputs": [
    {
     "data": {
      "text/plain": [
       "722176"
      ]
     },
     "execution_count": 9,
     "metadata": {},
     "output_type": "execute_result"
    }
   ],
   "source": [
    "naive(run, freq) % 1000000"
   ]
  }
 ],
 "metadata": {
  "kernelspec": {
   "display_name": "decode",
   "language": "python",
   "name": "python3"
  },
  "language_info": {
   "codemirror_mode": {
    "name": "ipython",
    "version": 3
   },
   "file_extension": ".py",
   "mimetype": "text/x-python",
   "name": "python",
   "nbconvert_exporter": "python",
   "pygments_lexer": "ipython3",
   "version": "3.11.5"
  }
 },
 "nbformat": 4,
 "nbformat_minor": 2
}
