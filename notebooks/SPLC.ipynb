{
 "cells": [
  {
   "cell_type": "code",
   "execution_count": 1,
   "id": "2c5580a7-d2d8-4f8e-9c15-5eb4bd392b48",
   "metadata": {},
   "outputs": [],
   "source": [
    "gene = \"ATGGTCTACATAGCTGACAAACAGCACGTAGCAATCGGTCGAATCTCGAGAGGCATATGGTCACATGATCGGTCGAGCGTGTTTCAAAGTTTGCGCCTAG\"\n",
    "introns = [\"ATCGGTCGAA\", \"ATCGGTCGAGCGTGT\"]"
   ]
  },
  {
   "cell_type": "code",
   "execution_count": 3,
   "id": "ce3f32b6",
   "metadata": {},
   "outputs": [],
   "source": [
    "def find_introns(gene, introns):\n",
    "    pos = []\n",
    "    for intron in introns:\n",
    "        int_start = gene.find(intron)\n",
    "        int_end = int_start + len(intron)\n",
    "        pos.append([int_start, int_end])\n",
    "    return pos"
   ]
  },
  {
   "cell_type": "code",
   "execution_count": 4,
   "id": "8ce64c33",
   "metadata": {},
   "outputs": [
    {
     "data": {
      "text/plain": [
       "[[33, 43], [67, 82]]"
      ]
     },
     "execution_count": 4,
     "metadata": {},
     "output_type": "execute_result"
    }
   ],
   "source": [
    "find_introns(gene, introns)"
   ]
  },
  {
   "cell_type": "code",
   "execution_count": 5,
   "id": "fab80dd8",
   "metadata": {},
   "outputs": [],
   "source": [
    "gene = \"ATGTCCCGGGGCTGTCCAGGCAAAACGAAATCATGATAGCAGAAATATTCAGGCGCTGTAGACTTCTGTGTTCTTCGATACCGTAGGAACTTGACGAAGGTAATGCCGCTACTAGTAGCTGACGCCAAGAAGCAGAAGATCTTTTGGGGTATCCTGCCCTCTCAAATTCCTTGTATTTAAATACCCCCACGAAATTGATACCCGATACTGCCGGTTATAAGGTCCCTGCGACGCCCGAGTAACTACCGCGGTTCGTTAGACCTTCTAGATGCTAAACTAGTTCACTCCTGGCGCTAAGAGATCGGTTCAGAAAGTCGCGCAAGACTTCTTGTCCTCCGCATTCTGATCCGACCCTTCCTCAGAAGTATAGCAGAAGTCAAGCTGTGTACAAATGCAACAGCGGTCTAGGGAACAGTGAAAGCCTCCCATCAAAGAGTTATTCAGGTCCCCAACTGGAAACCAATTTCCACTGATTTATCGTGCTGACGGAGATCTACAACGGGGCATCTTTCGGTCTGAAGGCCCTACCAAGCGGTACAATTTGTTCTACTTGCCTATAGCCTTTGGTCGCGTCGTGTATTGGATCAGCCTTCGAATACGTCAATCTCGGTGAAGTAGACAGGCTTCAATTCAATACATCCCCCTTCACTCAACTCAGTTCTCCACGGCCAGGTAATAGGATCGTTCGCGAAGATAGGCGATGGATGAGTGGTGCGAAGGGAGGAGTAGTGGATAGTTTTTCTAGTCATGCGGGGACATATAGGCTTTCTCATACAGCTCACAGCTGCCTCCGCCTGCTTCCTATTTTTCGGTCTGGCACCTATGCTGTTGCCCATCGCCCCGGTTATATAGAATGATCATGTCTTCTTATGGAGCACTAGAATTGCAAGGGTTCGGTGTCCTGTCAGTTATCACCTAACGTCCCGGTAAGAAAACTAGCGTTCGGATGCGGGCGGCGCGGGATATCCTAG\"\n",
    "introns = [\n",
    "    \"CGGTGAAGTAGACAGGCTTCAATTCAATACATCCCCCT\",\n",
    "    \"GGATCGTTCGCGAAGATAGGCGATGGATGAGTGGTGCGAAGGGA\",\n",
    "    \"ACAGCGGTCTAGGGAACAGTGAAAGCCTCCCATCAAAGAGTTATTC\",\n",
    "    \"AACTACCGCGGTTCG\",\n",
    "    \"TGATAGCAGAAATATTCAGGCGCTGTAGACTTCTGTGTTCTT\",\n",
    "    \"CGCCCCGGTTATATAG\",\n",
    "    \"CATACAGCTCACAGCTGCCTCCGCCTGCTTCCTATT\",\n",
    "    \"GCTGACGCCAAGAAGCAGAAGATCTTTTGGGGTA\",\n",
    "    \"TTTCCACTGATTTATCGTGCTG\",\n",
    "    \"TCTTTCGGTCTGAAGGCCCTACCAAGCGGTACAATTTGTTCTAC\",\n",
    "    \"TGGCGCTAAGAGATCGGTTCAGAAAGTCGCGCAAGACTTCTTGTCCTC\",\n",
    "    \"GTCAGTTATCACCTAACGTCCCGGTAAGAAAACTAGCG\",\n",
    "    \"GATACCCGATACTGCCGGTT\",\n",
    "]"
   ]
  },
  {
   "cell_type": "code",
   "execution_count": 6,
   "id": "687b3571",
   "metadata": {},
   "outputs": [],
   "source": [
    "for intron in introns:\n",
    "    gene = gene.replace(intron, \"\")"
   ]
  },
  {
   "cell_type": "code",
   "execution_count": 8,
   "id": "a7c70029",
   "metadata": {},
   "outputs": [],
   "source": [
    "codons = {\n",
    "    \"UUU\": \"F\", \"CUU\": \"L\", \"AUU\": \"I\", \"GUU\": \"V\",\n",
    "    \"UUC\": \"F\", \"CUC\": \"L\", \"AUC\": \"I\", \"GUC\": \"V\",\n",
    "    \"UUA\": \"L\", \"CUA\": \"L\", \"AUA\": \"I\", \"GUA\": \"V\",\n",
    "    \"UUG\": \"L\", \"CUG\": \"L\", \"AUG\": \"M\", \"GUG\": \"V\",\n",
    "    \"UCU\": \"S\", \"CCU\": \"P\", \"ACU\": \"T\", \"GCU\": \"A\",\n",
    "    \"UCC\": \"S\", \"CCC\": \"P\", \"ACC\": \"T\", \"GCC\": \"A\",\n",
    "    \"UCA\": \"S\", \"CCA\": \"P\", \"ACA\": \"T\", \"GCA\": \"A\",\n",
    "    \"UCG\": \"S\", \"CCG\": \"P\", \"ACG\": \"T\", \"GCG\": \"A\",\n",
    "    \"UAU\": \"Y\", \"CAU\": \"H\", \"AAU\": \"N\", \"GAU\": \"D\",\n",
    "    \"UAC\": \"Y\", \"CAC\": \"H\", \"AAC\": \"N\", \"GAC\": \"D\",\n",
    "    \"UAA\": None, \"CAA\": \"Q\", \"AAA\": \"K\", \"GAA\": \"E\",\n",
    "    \"UAG\": None, \"CAG\": \"Q\", \"AAG\": \"K\", \"GAG\": \"E\",\n",
    "    \"UGU\": \"C\", \"CGU\": \"R\", \"AGU\": \"S\", \"GGU\": \"G\",\n",
    "    \"UGC\": \"C\", \"CGC\": \"R\", \"AGC\": \"S\", \"GGC\": \"G\",\n",
    "    \"UGA\": None, \"CGA\": \"R\", \"AGA\": \"R\", \"GGA\": \"G\",\n",
    "    \"UGG\": \"W\", \"CGG\": \"R\", \"AGG\": \"R\", \"GGG\": \"G\"\n",
    "}"
   ]
  },
  {
   "cell_type": "code",
   "execution_count": 9,
   "id": "fc373156",
   "metadata": {},
   "outputs": [],
   "source": [
    "def translate(s, codons):\n",
    "    amino_acids = []\n",
    "    for i in range(0, len(s), 3):\n",
    "        codon = s[i:i+3]\n",
    "        amino_acid = codons[codon]\n",
    "        if amino_acid is None:\n",
    "            return \"\".join(amino_acids)\n",
    "        amino_acids.append(amino_acid)\n",
    "    return \"\".join(amino_acids)"
   ]
  },
  {
   "cell_type": "code",
   "execution_count": 11,
   "id": "bf1accf1",
   "metadata": {},
   "outputs": [
    {
     "data": {
      "text/plain": [
       "'MSRGCPGKTKSRYRRNLTKVMPLLVSCPLKFLVFKYPHEIIRSLRRPSLDLLDAKLVHSRILIRPFLRSIAEVKLCTNARSPTGNQTEIYNGALPIAFGRVVYWISLRIRQSSLNSVLHGQVIGVVDSFSSHAGTYRLSFRSGTYAVAHNDHVFLWSTRIARVRCPFGCGRRGIS'"
      ]
     },
     "execution_count": 11,
     "metadata": {},
     "output_type": "execute_result"
    }
   ],
   "source": [
    "translate(gene.replace(\"T\", \"U\"), codons)"
   ]
  }
 ],
 "metadata": {
  "kernelspec": {
   "display_name": "Python 3 (ipykernel)",
   "language": "python",
   "name": "python3"
  },
  "language_info": {
   "codemirror_mode": {
    "name": "ipython",
    "version": 3
   },
   "file_extension": ".py",
   "mimetype": "text/x-python",
   "name": "python",
   "nbconvert_exporter": "python",
   "pygments_lexer": "ipython3",
   "version": "3.11.5"
  }
 },
 "nbformat": 4,
 "nbformat_minor": 5
}
