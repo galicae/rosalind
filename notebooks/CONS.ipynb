{
 "cells": [
  {
   "cell_type": "markdown",
   "id": "e39a0104",
   "metadata": {},
   "source": [
    "# Problem\n",
    "\n",
    "A matrix is a rectangular table of values divided into rows and columns. An $m \\times n$ matrix has\n",
    "$m$ rows and $n$ columns. Given a matrix $A$, we write $A_{i,j}$ to indicate the value found at the\n",
    "intersection of row $i$ and column $j$.\n",
    "\n",
    "Say that we have a collection of DNA strings, all having the same length $n$. Their profile matrix\n",
    "is a $4 \\times n$ matrix $P$ in which $P_{1,j}$ represents the number of times that 'A' occurs in\n",
    "the $j$-th position of one of the strings, $P_{2,j}$ represents the number of times that C occurs in\n",
    "the $j$-th position, and so on (see below).\n",
    "\n",
    "A consensus string $c$ is a string of length $n$ formed from our collection by taking the most\n",
    "common symbol at each position; the $j$-th symbol of $c$ therefore corresponds to the symbol having\n",
    "the maximum value in the $j$-th column of the profile matrix. Of course, there may be more than one\n",
    "most common symbol, leading to multiple possible consensus strings.\n",
    "\n",
    "```\n",
    "                A T C C A G C T\n",
    "                G G G C A A C T\n",
    "                A T G G A T C T\n",
    "DNA Strings\tA A G C A A C C\n",
    "                T T G G A A C T\n",
    "                A T G C C A T T\n",
    "                A T G G C A C T\n",
    "\n",
    "            A   5 1 0 0 5 5 0 0\n",
    "Profile\t    C   0 0 1 4 2 0 6 1\n",
    "            G   1 1 6 3 0 1 0 0\n",
    "            T   1 5 0 0 0 1 1 6\n",
    "\n",
    "Consensus\tA T G C A A C T\n",
    "```\n",
    "\n",
    "**Given:** A collection of at most 10 DNA strings of equal length (at most 1 kbp) in FASTA format.\n",
    "\n",
    "**Return:** A consensus string and profile matrix for the collection. (If several possible consensus\n",
    "strings exist, then you may return any one of them.)\n",
    "\n",
    "Sample Dataset\n",
    "\n",
    "```\n",
    ">Rosalind_1\n",
    "ATCCAGCT\n",
    ">Rosalind_2\n",
    "GGGCAACT\n",
    ">Rosalind_3\n",
    "ATGGATCT\n",
    ">Rosalind_4\n",
    "AAGCAACC\n",
    ">Rosalind_5\n",
    "TTGGAACT\n",
    ">Rosalind_6\n",
    "ATGCCATT\n",
    ">Rosalind_7\n",
    "ATGGCACT\n",
    "```\n",
    "\n",
    "Sample Output\n",
    "\n",
    "```\n",
    "ATGCAACT\n",
    "A: 5 1 0 0 5 5 0 0\n",
    "C: 0 0 1 4 2 0 6 1\n",
    "G: 1 1 6 3 0 1 0 0\n",
    "T: 1 5 0 0 0 1 1 6\n",
    "```"
   ]
  },
  {
   "cell_type": "code",
   "execution_count": 1,
   "id": "84c7b370",
   "metadata": {},
   "outputs": [],
   "source": [
    "from rio import read_fasta"
   ]
  },
  {
   "cell_type": "code",
   "execution_count": 2,
   "id": "96a91006",
   "metadata": {},
   "outputs": [],
   "source": [
    "test = read_fasta('../files/CONS_train.txt')\n",
    "del test['']"
   ]
  },
  {
   "cell_type": "code",
   "execution_count": 3,
   "id": "7cba3dbf",
   "metadata": {},
   "outputs": [],
   "source": [
    "def find_profile(fasta, bases=['A', 'C', 'G', 'T']):\n",
    "    sequences = list(fasta.values())\n",
    "    n = len(sequences[0])\n",
    "    profile = {b: [0] * n for b in bases}\n",
    "    for s in sequences:\n",
    "        for i in range(n):\n",
    "            profile[s[i]][i] += 1\n",
    "    return profile\n",
    "\n",
    "def consensus(profile, bases=['A', 'C', 'G', 'T']):\n",
    "    n = len(profile['A'])\n",
    "    consensus_seq = ''\n",
    "    for i in range(n):\n",
    "        max_occ = 0\n",
    "        max_base = ''\n",
    "        for b in bases:\n",
    "            if profile[b][i] > max_occ:\n",
    "                max_occ = profile[b][i]\n",
    "                max_base = b\n",
    "        consensus_seq += max_base\n",
    "    return consensus_seq\n",
    "\n",
    "def pretty_print(profile, bases=['A', 'C', 'G', 'T']):\n",
    "    for base in bases:\n",
    "        seq = [str(c) for c in profile[base]]\n",
    "        print(f\"{base}: {' '.join(seq)}\")"
   ]
  },
  {
   "cell_type": "code",
   "execution_count": 4,
   "id": "f3fcbc00",
   "metadata": {},
   "outputs": [
    {
     "name": "stdout",
     "output_type": "stream",
     "text": [
      "ATGCAACT\n",
      "A: 5 1 0 0 5 5 0 0\n",
      "C: 0 0 1 4 2 0 6 1\n",
      "G: 1 1 6 3 0 1 0 0\n",
      "T: 1 5 0 0 0 1 1 6\n"
     ]
    }
   ],
   "source": [
    "prof = find_profile(test)\n",
    "cons = consensus(prof)\n",
    "print(cons)\n",
    "pretty_print(prof)"
   ]
  },
  {
   "cell_type": "markdown",
   "id": "e03a708d",
   "metadata": {},
   "source": [
    "# Solution"
   ]
  },
  {
   "cell_type": "code",
   "execution_count": 5,
   "id": "9bfe75ad",
   "metadata": {},
   "outputs": [
    {
     "name": "stdout",
     "output_type": "stream",
     "text": [
      "TCTGGCTGAAACGAGCCGCCGGCAATACCCCGTAAACCCAAATGAAAAAGAGGACGCGGCTTATGTGAAATGAGCGATCCGTTACTACTGATCCACTAAGACGGTCGCCACCATATCCACACCTCGGTTAAAAAATTTCTAGCCGGATGAACAGGCGCCACAAATTAAAGCACTGATTTCGGCCGAAATGCTAATTAGGAGACCCGAGAAACCAACCATACACAAATCACGGGGTGATAAGTGGTTAAGTGGACTGCTATCCACGTAACAGGACCCTCGGACATGACCAAACCGACGTATAAGAATCTAACCCGCTCCCAATCATCAGACGCGATAACAGCGCCAACTTGCGAAGCAGGATGCACCCCTACGCTACAAACCAGTGACCACCGGTGATATCGCATTCTGGCGGTCGCATACCACAGACGGGCCGACCGCCGCAATAGCCAAGAAAACCATTGCAGCATGCTAATATCAGCAGAAGACGCGAGCAACGCCCAATGAAGCACATAACGGTCCGGTGAATACGTTTCCTAAAACCCGATCCGAGAGTGAAAGGCCAAAGGGGCAATATCAACGAAGTGCAAGGTACAATCACGACGCGAGTACACAGTACTTGCTGCAACAGCTAAACCAAGCAAGGTGCGCCTATCGCATTGCAAAAGTTTCAAATGGACTAACGGAGCGAGTGAAGTACGAGTGAGCTGAAAGAGCATCAACCAAAAAACGGAAGGCAAACCCTATACACCCCTGATCAAACGCTAATGATGGTGAAACGCCGCGTACACAGCGAACACAGAAGCAGACGGTAGAAACGAGCTGGTGAAGGCCTAACCATCCAACATCGAAAAATGTGTACAGCCGCCCAGGCTCGCATACACCAAATAACAAAGAAAATGAGGGTGGCGCCCGCACTGAAAAAGAGACCCCGCGCTGAGGGCCAAGTGCACCACGGGACCATTGCGCGCATATGAGCATATAAGTGA\n",
      "A: 1 3 1 3 2 3 2 0 5 5 4 2 3 5 3 2 0 1 2 2 2 2 2 3 5 2 3 2 1 2 1 0 3 3 5 5 3 2 2 4 4 5 2 0 3 4 4 3 3 1 4 2 0 3 2 0 2 0 2 1 2 0 5 1 1 1 0 3 4 3 2 1 5 1 2 2 3 3 1 1 2 2 3 4 2 4 3 2 1 2 3 2 2 1 4 1 2 3 3 2 4 3 1 2 1 2 1 1 1 3 2 3 4 3 3 2 2 1 3 2 4 2 3 1 2 1 1 2 2 4 3 4 4 7 3 2 2 3 1 1 5 2 2 2 3 1 4 2 1 4 4 2 3 2 3 2 2 2 1 6 4 4 3 4 2 1 4 3 4 2 2 5 2 3 1 4 2 1 3 3 1 2 1 2 3 4 3 4 2 1 2 3 4 4 2 0 5 2 2 6 1 3 3 1 0 1 4 2 4 4 4 1 1 4 4 2 1 4 3 4 2 5 1 4 3 3 1 0 5 0 2 2 2 3 2 0 4 2 4 3 1 2 1 3 3 1 5 3 2 1 3 3 6 2 1 2 1 3 3 0 2 2 4 1 0 3 3 5 1 5 3 1 4 1 1 2 4 3 2 1 4 3 3 2 3 3 1 1 5 3 5 2 2 1 3 4 2 4 3 3 5 3 2 5 3 2 2 2 4 4 2 3 2 3 1 0 2 2 2 5 4 2 3 3 3 2 4 2 3 0 2 3 2 4 4 6 4 3 4 1 3 2 2 3 3 3 2 2 0 1 3 1 4 6 2 1 4 2 1 3 1 3 2 4 0 2 2 2 1 5 2 2 0 0 3 1 4 4 4 2 1 4 1 2 2 3 2 2 4 1 3 3 2 0 1 4 3 3 2 2 0 0 6 1 0 2 1 2 2 3 1 1 1 2 0 2 5 2 4 1 1 4 3 4 3 3 2 2 2 2 2 1 2 6 2 2 2 0 1 2 1 3 4 2 4 2 2 2 5 4 2 4 3 3 4 2 0 4 3 2 0 2 4 1 1 4 1 2 1 2 4 4 1 5 2 1 5 3 1 3 2 4 4 4 3 2 2 2 2 5 3 1 3 4 2 1 2 3 1 3 3 2 1 4 4 0 2 4 2 4 0 3 4 1 3 0 3 2 2 2 1 3 3 4 3 1 4 2 2 2 2 2 2 1 1 4 5 3 4 1 2 0 2 3 1 1 1 2 5 2 3 1 2 1 5 4 3 1 3 1 3 3 3 3 1 2 3 2 0 5 3 0 6 3 3 3 4 1 1 3 6 1 3 1 0 3 3 2 3 3 5 1 3 3 2 2 4 3 2 5 1 3 2 2 4 2 1 4 3 3 2 4 2 1 4 3 2 0 2 0 0 3 2 5 5 1 6 2 1 1 4 5 4 1 2 4 3 0 3 3 3 3 2 2 2 3 2 2 3 3 4 2 1 3 2 4 3 0 2 3 5 4 3 5 3 0 3 1 2 4 3 6 3 2 1 4 3 1 3 3 2 3 1 5 3 3 2 3 3 2 1 3 3 1 0 3 2 2 4 1 2 2 5 1 1 3 2 3 5 4 2 4 3 1 4 1 2 4 3 1 2 4 5 5 5 4 5 2 2 3 3 5 1 1 2 6 4 4 3 3 1 1 3 1 3 2 3 3 2 0 2 2 3 6 1 1 3 4 6 1 2 1 1 4 6 2 2 3 1 1 2 3 2 4 4 4 2 2 3 2 1 1 2 1 3 1 5 1 4 2 2 4 4 4 3 3 2 3 2 4 3 3 2 4 2 4 1 2 3 2 5 2 5 3 3 1 2 3 1 2 1 1 2 2 2 4 3 2 3 3 1 3 3 3 2 2 3 1 2 3 3 4 1 6 1 1 3 4 5 4 4 4 0 3 2 3 1 5 0 3 1 3 2 4 0 0 1 3 1 3 2 1 2 3 1 4 3 3 2 4 2 2 5 4 5 3 5 6 1 6 3 5 2 4 4 4 4 2 2 3 3 1 0 2 0 1 1 2 1 2 1 3 2 3 0 3 1 5 3 3 3 5 3 7 2 3 4 2 2 2 2 2 2 1 3 2 3 1 1 2 1 2 3 3 3 1 2 2 7 2 1 4 3 0 2 3 4 2 2 6 3 1 1 1 2 2 3 1 5 0 4 3 1 5 2 2 5 2 4 3 4 4 2 3 3 4\n",
      "C: 2 4 1 2 2 4 2 3 2 4 2 3 2 2 1 3 4 0 4 3 3 2 4 1 1 2 2 4 5 4 5 3 0 3 1 1 5 3 3 3 3 1 2 1 1 2 3 3 3 3 2 2 3 3 3 3 3 1 1 5 1 3 2 2 3 3 3 2 1 2 0 2 2 1 3 1 1 1 4 3 2 3 2 3 4 1 2 3 3 2 3 2 3 3 1 6 1 3 3 2 1 4 1 2 3 3 3 4 4 3 4 4 1 1 3 2 5 3 3 4 2 4 5 3 5 0 2 1 0 1 3 0 3 0 3 3 3 0 4 0 3 2 4 4 2 3 0 1 2 2 1 4 2 1 2 4 2 5 3 2 6 2 2 2 1 3 2 3 3 2 3 2 4 0 3 3 2 3 1 4 3 0 4 5 2 1 2 2 3 2 4 0 2 1 3 3 3 1 1 2 2 3 4 4 4 1 1 1 2 1 3 3 4 1 1 3 4 3 1 2 4 0 3 3 2 1 3 7 3 5 0 2 2 2 3 3 3 2 3 3 2 3 3 1 2 1 1 1 0 2 1 2 1 4 2 2 5 1 3 2 3 4 2 5 2 1 3 1 3 2 1 1 2 5 3 3 0 4 0 3 2 4 2 1 2 2 4 4 1 2 3 3 3 3 3 5 2 1 3 3 2 3 1 0 3 1 4 2 0 3 4 4 5 2 4 3 3 4 4 0 4 1 5 1 2 5 0 1 3 4 2 5 2 1 0 3 4 4 4 2 4 2 3 4 2 2 3 2 2 3 4 2 1 1 2 4 2 2 3 2 1 1 3 2 4 5 3 5 3 1 3 1 6 3 3 4 1 2 3 4 5 2 1 2 2 2 5 4 3 4 5 2 2 3 2 0 2 3 1 3 3 7 1 3 3 5 2 2 0 4 1 2 2 5 2 4 0 3 1 4 5 2 4 2 0 3 6 2 1 1 3 4 2 2 3 4 2 5 3 1 5 1 2 1 1 3 4 4 4 0 3 2 3 2 1 3 6 2 1 2 3 3 3 2 5 2 1 2 4 2 2 1 3 1 1 4 1 1 4 1 2 2 0 0 3 3 2 4 2 4 3 3 1 1 5 2 4 4 4 3 3 0 2 2 3 2 5 2 3 1 2 2 1 4 2 3 2 3 3 1 1 1 2 3 2 3 2 5 3 3 2 1 4 3 2 1 1 2 1 4 4 5 3 2 3 4 6 3 0 2 3 2 2 1 3 1 2 1 1 4 4 2 3 1 3 1 1 0 6 1 3 2 1 0 4 2 1 3 2 2 0 3 2 1 5 3 1 3 1 2 3 4 2 3 2 3 3 5 1 1 4 1 3 2 2 1 3 2 4 3 3 2 2 2 3 4 2 3 0 4 1 3 3 3 3 3 1 2 5 1 1 2 1 4 4 3 3 2 4 2 2 3 1 3 1 4 2 3 4 2 2 2 4 2 4 2 3 3 3 5 0 2 3 1 1 1 1 1 6 1 1 3 0 1 3 3 4 2 2 2 4 1 3 3 2 4 2 2 1 3 2 3 3 3 1 3 5 2 2 2 2 2 3 1 4 2 0 2 2 2 2 2 1 4 3 2 4 3 2 4 3 2 1 3 0 1 3 4 2 0 3 1 2 3 5 3 1 1 5 6 4 1 2 2 2 4 2 4 5 4 3 2 2 2 1 5 3 2 1 4 1 4 3 4 3 2 3 2 3 3 2 0 2 1 2 1 6 1 4 4 1 3 2 2 1 6 1 6 1 0 3 0 3 2 5 3 5 2 1 2 2 2 6 2 2 2 5 1 1 2 2 2 2 1 3 5 2 2 3 5 1 1 2 0 1 4 2 3 1 5 4 0 2 3 4 3 2 3 4 4 3 2 5 1 0 4 0 3 2 2 0 3 1 1 2 0 3 3 4 3 1 4 4 1 4 5 4 1 2 1 5 0 4 0 6 0 2 3 5 1 7 3 2 2 2 1 1 2 5 0 3 4 2 3 1 1 2 2 2 3 2 2 3 3 2 1 4 3 6 5 5 2 4 3 7 2 2 2 3 3 2 1 3 1 3 3 5 4 3 4 2 5 2 5 0 1 2 2 3 1 5 4 1 2 1 1 2 4 0 3 3 2 4 2 2 2 1 4 3 1 2 2 2 5 2 6 1 3 1 2 2 2 3 1 3 3 2 1 2 2 3 2 2 2 1 2\n",
      "G: 2 3 2 4 4 3 2 5 1 0 2 3 4 1 4 2 3 5 1 2 4 4 2 3 1 1 3 1 1 1 2 4 3 2 1 3 1 3 3 3 2 4 0 5 3 1 2 2 3 4 2 4 4 2 3 6 2 7 5 2 3 3 3 2 4 2 5 3 3 3 3 4 0 5 3 4 3 2 2 3 4 1 0 0 1 0 3 3 2 3 2 2 3 3 2 0 2 1 3 3 4 0 5 3 1 3 4 2 3 2 2 3 3 2 2 2 2 3 1 2 4 2 0 2 2 6 4 1 1 2 2 4 3 1 1 1 0 3 3 4 2 4 2 3 4 4 3 2 4 0 3 3 2 5 5 3 3 2 3 1 0 1 2 1 2 2 1 2 1 4 3 2 3 3 5 2 2 2 2 2 4 4 2 3 4 3 2 2 1 4 1 2 4 2 1 2 2 4 5 2 5 2 1 1 4 5 3 4 3 4 2 3 2 3 2 2 3 1 2 4 1 2 3 0 2 3 2 1 0 2 4 4 3 4 0 4 1 1 1 2 4 1 4 4 1 3 2 3 7 3 5 4 2 3 3 3 1 1 3 2 2 1 3 2 4 1 2 2 3 0 4 4 2 2 3 2 1 2 4 4 1 2 2 1 4 3 2 3 2 3 2 3 2 4 1 0 3 0 1 0 1 3 5 0 1 2 3 1 3 2 3 1 1 4 3 3 2 2 4 3 1 3 2 3 1 2 4 4 2 3 4 0 4 2 1 0 1 1 1 5 1 4 3 1 2 2 3 2 1 4 1 6 1 3 3 4 1 3 4 2 2 4 3 3 2 2 3 2 0 4 3 5 3 2 3 3 4 1 2 2 2 2 5 2 3 2 2 0 1 2 0 4 4 2 4 3 1 2 3 2 5 1 1 1 1 2 2 5 5 2 6 7 1 0 5 2 2 1 3 3 4 2 1 1 4 2 0 3 4 4 3 2 5 0 2 2 3 2 3 4 2 3 3 3 2 4 2 3 0 3 5 0 1 3 3 3 1 0 2 1 4 3 3 5 1 1 3 4 2 2 3 2 1 2 3 3 2 4 3 3 4 3 2 6 3 2 3 1 3 0 4 3 3 4 2 5 0 2 4 2 1 3 5 1 1 6 2 3 3 2 1 3 2 4 4 5 1 3 3 5 5 1 4 1 2 2 1 3 4 1 1 2 0 3 3 1 3 2 4 4 3 2 4 3 2 2 2 4 3 4 3 4 2 4 0 2 3 6 4 4 1 2 3 3 4 4 4 6 2 3 2 2 0 2 2 2 1 3 4 2 3 4 1 4 2 2 3 4 4 1 2 2 2 2 2 2 1 1 4 2 2 4 3 4 0 4 2 4 1 2 3 2 4 3 2 1 2 3 4 3 4 4 2 1 0 3 2 3 1 3 1 1 4 3 1 1 2 5 1 3 3 4 4 1 5 1 3 2 2 1 1 2 1 5 3 1 0 3 4 0 1 4 3 1 5 3 2 3 0 3 3 1 2 5 4 1 1 3 3 2 1 4 4 2 4 1 4 3 4 1 5 1 1 5 3 3 1 3 1 4 2 4 1 6 4 1 4 3 2 3 3 2 4 2 2 3 3 1 3 3 2 3 2 1 2 2 1 2 4 4 1 2 4 4 2 1 3 2 1 1 2 3 2 3 2 3 3 1 3 2 2 2 4 1 3 3 1 2 2 2 5 3 2 2 1 2 5 2 1 4 3 3 3 4 2 2 2 5 2 3 4 3 3 3 3 1 2 0 2 4 3 5 2 1 0 3 1 3 5 3 3 4 0 3 4 1 2 4 5 2 0 4 1 3 2 2 3 2 4 2 3 4 3 3 4 1 2 4 4 1 4 1 3 2 2 3 2 1 1 3 3 0 2 1 3 3 4 1 0 3 2 1 4 4 2 4 2 0 4 2 5 1 3 5 2 1 2 3 4 4 0 2 3 4 1 3 1 1 3 2 0 3 2 2 0 2 1 2 3 3 1 1 5 0 2 3 3 2 3 2 4 4 4 1 4 5 2 4 1 2 2 4 1 3 1 1 5 2 2 3 3 0 4 2 4 1 0 2 3 2 4 1 4 1 2 4 3 6 4 4 1 2 3 2 5 3 4 1 2 3 3 3 1 7 3 4 2 2 3 2 1 3 4 2 3 1 4 3 2 2 2 1 4 3 5 3 2 1 3 1 2 3 4 0 5 1\n",
      "T: 5 0 6 1 2 0 4 2 2 1 2 2 1 2 2 3 3 4 3 3 1 2 2 3 3 5 2 3 3 3 2 3 4 2 3 1 1 2 2 0 1 0 6 4 3 3 1 2 1 2 2 2 3 2 2 1 3 2 2 2 4 4 0 5 2 4 2 2 2 2 5 3 3 3 2 3 3 4 3 3 2 4 5 3 3 5 2 2 4 3 2 4 2 3 3 3 5 3 1 3 1 3 3 3 5 2 2 3 2 2 2 0 2 4 2 4 1 3 3 2 0 2 2 4 1 3 3 6 7 3 2 2 0 2 3 4 5 4 2 5 0 2 2 1 1 2 3 5 3 4 2 1 3 2 0 1 3 1 3 1 0 3 3 3 5 4 3 2 2 2 2 1 1 4 1 1 4 4 4 1 2 4 3 0 1 2 3 2 4 3 3 5 0 3 4 5 0 3 2 0 2 2 2 4 2 3 2 3 1 1 1 3 3 2 3 3 2 2 4 0 3 3 3 3 3 3 4 2 2 3 4 2 3 1 5 3 2 5 2 2 3 4 2 2 4 5 2 3 1 4 1 1 1 1 4 3 3 5 1 6 3 3 1 2 4 5 2 2 3 3 2 4 2 2 3 3 5 1 4 2 3 1 3 6 1 2 3 2 2 2 0 2 3 2 3 1 3 5 3 4 2 1 2 5 3 5 1 5 3 1 1 2 2 1 2 4 3 2 0 2 1 4 0 3 4 1 2 3 2 3 2 2 2 3 5 1 1 2 1 2 2 2 2 2 3 3 2 4 7 2 2 1 4 0 3 1 3 3 2 3 6 2 2 1 4 1 2 1 6 0 2 2 1 5 1 2 1 3 1 2 2 2 3 4 3 3 1 4 2 3 2 1 2 5 3 3 4 2 4 3 2 2 2 5 6 1 5 1 3 1 2 0 6 3 3 2 3 4 2 2 0 2 2 3 3 2 2 3 3 3 2 3 1 2 3 2 3 3 3 3 2 3 1 4 3 1 2 1 1 3 0 4 3 2 2 2 3 4 4 5 3 2 0 2 3 3 5 2 3 4 1 3 5 2 4 2 2 2 2 3 2 1 4 0 1 3 3 3 3 1 0 3 3 1 1 2 4 1 1 2 3 5 2 3 2 2 1 1 2 3 7 2 3 1 1 2 4 2 2 2 3 5 1 2 3 4 3 0 1 4 5 5 4 3 4 4 1 3 1 1 1 3 1 2 4 3 1 1 2 2 1 3 4 4 2 3 2 2 2 1 2 3 1 3 2 3 2 2 2 1 2 6 3 5 1 3 4 3 3 3 1 2 4 4 3 2 3 1 2 4 0 3 3 2 4 3 2 1 3 2 3 2 2 2 4 3 4 0 2 2 2 2 2 4 1 2 4 4 4 3 5 0 3 1 2 3 1 3 3 5 4 2 1 2 3 2 2 3 2 2 2 0 3 4 2 2 3 3 1 4 3 4 4 0 1 3 4 4 1 2 4 0 1 3 1 6 4 5 2 2 3 0 5 2 2 2 2 4 2 3 3 2 2 0 1 2 2 2 2 4 2 3 3 1 6 1 2 3 3 3 4 2 1 2 1 4 4 2 1 1 3 2 2 3 1 4 1 2 2 2 3 1 2 1 3 3 1 2 2 3 3 2 3 2 1 0 2 3 1 0 3 5 3 4 3 1 2 2 0 4 3 4 1 1 5 1 3 2 1 3 2 2 4 0 0 4 0 3 5 2 3 4 3 1 2 3 0 2 1 1 4 3 3 4 3 2 2 3 3 4 2 1 1 3 2 1 2 2 2 1 2 1 2 1 2 3 2 3 1 4 3 2 2 3 2 2 3 3 2 1 5 4 3 5 3 1 3 1 2 1 1 6 2 2 2 2 3 5 3 0 1 4 2 2 6 2 3 2 3 1 4 2 5 2 4 3 4 2 2 2 3 2 1 0 4 4 3 3 3 2 3 7 1 3 2 3 4 3 0 3 1 2 1 2 3 4 3 0 1 1 3 0 1 3 3 2 1 4 3 2 1 3 3 4 4 3 3 1 2 1 2 1 3 1 2 4 2 1 2 1 2 4 0 0 1 3 1 2 2 2 2 2 2 3 5 3 2 1 2 3 3 2 3 3 1 5 2 3 1 2 3 1 2 1 3 1 3 2 2 1 4 4 3 2 3 1 2 3 2 6 2 4 2 1 0 2 1 6 1 4 1 1 2 5 1 3\n"
     ]
    }
   ],
   "source": [
    "fasta = read_fasta('../files/rosalind_cons.txt')\n",
    "del fasta['']\n",
    "prof = find_profile(fasta)\n",
    "cons = consensus(prof)\n",
    "\n",
    "print(cons)\n",
    "pretty_print(prof)"
   ]
  }
 ],
 "metadata": {
  "kernelspec": {
   "display_name": "simple-compute",
   "language": "python",
   "name": "python3"
  },
  "language_info": {
   "codemirror_mode": {
    "name": "ipython",
    "version": 3
   },
   "file_extension": ".py",
   "mimetype": "text/x-python",
   "name": "python",
   "nbconvert_exporter": "python",
   "pygments_lexer": "ipython3",
   "version": "3.13.5"
  }
 },
 "nbformat": 4,
 "nbformat_minor": 5
}
