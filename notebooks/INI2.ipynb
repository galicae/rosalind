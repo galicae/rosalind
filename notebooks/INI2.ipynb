{
 "cells": [
  {
   "cell_type": "code",
   "execution_count": 1,
   "id": "67363584-fcc0-4d52-b88f-81ea8fd57036",
   "metadata": {},
   "outputs": [],
   "source": [
    "import numpy as np"
   ]
  },
  {
   "cell_type": "code",
   "execution_count": 2,
   "id": "c4c40106-d4fe-4eb9-9a37-3013005de645",
   "metadata": {},
   "outputs": [],
   "source": [
    "data = np.array([811, 805])"
   ]
  },
  {
   "cell_type": "code",
   "execution_count": 3,
   "id": "4405efa9-37a1-4e41-bbaa-a2ea42379f4b",
   "metadata": {},
   "outputs": [
    {
     "data": {
      "text/plain": [
       "1305746"
      ]
     },
     "execution_count": 3,
     "metadata": {},
     "output_type": "execute_result"
    }
   ],
   "source": [
    "result = np.sum(data**2)\n",
    "result"
   ]
  }
 ],
 "metadata": {
  "kernelspec": {
   "display_name": "Python 3 (ipykernel)",
   "language": "python",
   "name": "python3"
  },
  "language_info": {
   "codemirror_mode": {
    "name": "ipython",
    "version": 3
   },
   "file_extension": ".py",
   "mimetype": "text/x-python",
   "name": "python",
   "nbconvert_exporter": "python",
   "pygments_lexer": "ipython3",
   "version": "3.9.13"
  }
 },
 "nbformat": 4,
 "nbformat_minor": 5
}
